{
  "cells": [
    {
      "cell_type": "code",
      "execution_count": null,
      "metadata": {
        "tags": [
          "parameters"
        ]
      },
      "outputs": [],
      "source": [
        "TaskObject = \"\""
      ]
    },
    {
      "cell_type": "code",
      "execution_count": null,
      "metadata": {
        "jupyter": {
          "outputs_hidden": false,
          "source_hidden": false
        },
        "nteract": {
          "transient": {
            "deleting": false
          }
        }
      },
      "outputs": [
        {
          "data": {
            "application/vnd.livy.statement-meta+json": {
              "execution_finish_time": "2022-03-01T20:42:10.2188104Z",
              "execution_start_time": "2022-03-01T20:42:10.0616085Z",
              "livy_statement_state": "available",
              "queued_time": "2022-03-01T20:42:09.9466632Z",
              "session_id": 82,
              "session_start_time": null,
              "spark_pool": "dlzstgsynspads",
              "state": "finished",
              "statement_id": 4
            },
            "text/plain": [
              "StatementMeta(dlzstgsynspads, 82, 4, Finished, Available)"
            ]
          },
          "metadata": {},
          "output_type": "display_data"
        },
        {
          "name": "stdout",
          "output_type": "stream",
          "text": [
            "Source: abfss://datalakeraw@dlzstgdlsadsylf2adsl.dfs.core.windows.net/SampleFiles/SalesLT.Customer.chunk_1.parquet\n",
            "Schema: abfss://datalakeraw@dlzstgdlsadsylf2adsl.dfs.core.windows.net/SampleFiles/SalesLT.Customer.json\n",
            "Target: abfss://datalakelanding@dlzstgdlsadsylf2adsl.dfs.core.windows.net/TestOutput/SalesLT-Customer-Delta"
          ]
        }
      ],
      "source": [
        "import random\n",
        "import json\n",
        "from pyspark.sql import Row\n",
        "from pyspark.sql.types import *\n",
        "from pyspark.sql.functions import *\n",
        "from datetime import date\n",
        "from datetime import datetime\n",
        "\n",
        "session_id = random.randint(0,1000000)\n",
        "\n",
        "TaskObjectJson = json.loads(TaskObject)\n",
        "Source = TaskObjectJson['Source']['System']['Container'] + \"@\" + TaskObjectJson['Source']['System']['SystemServer'].replace(\"https://\",\"\") + \"/\"\n",
        "Schema = TaskObjectJson['Source']['System']['Container'] + \"@\" + TaskObjectJson['Source']['System']['SystemServer'].replace(\"https://\",\"\") + \"/\"\n",
        "Target = TaskObjectJson['Target']['System']['Container'] + \"@\" + TaskObjectJson['Target']['System']['SystemServer'].replace(\"https://\",\"\") + \"/\"\n",
        "\n",
        "\n",
        "Source = Source + TaskObjectJson['Source']['Instance']['SourceRelativePath'] + \"/\" + TaskObjectJson['Source']['DataFileName']\n",
        "Schema = Schema + TaskObjectJson['Source']['Instance']['SourceRelativePath'] + \"/\" + TaskObjectJson['Source']['SchemaFileName']\n",
        "Target = Target + TaskObjectJson['Target']['Instance']['TargetRelativePath'] + \"/\" + TaskObjectJson['Target']['DataFileName']\n",
        "\n",
        "\n",
        "#remove any double slashes\n",
        "Source = Source.replace('//', '/')\n",
        "Schema = Schema.replace('//', '/')\n",
        "Target = Target.replace('//', '/')\n",
        "\n",
        "#get source and target data types\n",
        "SourceDT = TaskObjectJson['Source']['Type']\n",
        "TargetDT = TaskObjectJson['Target']['Type']\n",
        "\n",
        "\n",
        "#add abfss\n",
        "Source = \"abfss://\" + Source\n",
        "Schema = \"abfss://\" + Schema\n",
        "Target = \"abfss://\" + Target\n",
        "\n",
        "now = datetime.now()\n",
        "\n",
        "Source = Source.replace(\"{yyyy}\", \"%Y\")\n",
        "Source = Source.replace(\"{MM}\", \"%m\")\n",
        "Source = Source.replace(\"{dd}\", \"%d\")\n",
        "Source = Source.replace(\"{hh}\", \"%H\")\n",
        "Source = Source.replace(\"{mm}\", \"%M\")\n",
        "Source = now.strftime(Source)\n",
        "\n",
        "Target = Target.replace(\"{yyyy}\", \"%Y\")\n",
        "Target = Target.replace(\"{MM}\", \"%m\")\n",
        "Target = Target.replace(\"{dd}\", \"%d\")\n",
        "Target = Target.replace(\"{hh}\", \"%H\")\n",
        "Target = Target.replace(\"{mm}\", \"%M\")\n",
        "Target = now.strftime(Target)\n",
        "\n",
        "Schema = Schema.replace(\"{yyyy}\", \"%Y\")\n",
        "Schema = Schema.replace(\"{MM}\", \"%m\")\n",
        "Schema = Schema.replace(\"{dd}\", \"%d\")\n",
        "Schema = Schema.replace(\"{hh}\", \"%H\")\n",
        "Schema = Schema.replace(\"{mm}\", \"%M\")\n",
        "Schema = now.strftime(Schema)\n",
        "\n",
        "print (\"Source: \" + Source)\n",
        "print (\"Schema: \" + Schema)\n",
        "print (\"Target: \" + Target)\n",
        "\n"
      ]
    },
    {
      "cell_type": "code",
      "execution_count": null,
      "metadata": {
        "jupyter": {
          "outputs_hidden": false,
          "source_hidden": false
        },
        "nteract": {
          "transient": {
            "deleting": false
          }
        }
      },
      "outputs": [
        {
          "data": {
            "application/vnd.livy.statement-meta+json": {
              "execution_finish_time": "2022-03-01T20:42:29.4180882Z",
              "execution_start_time": "2022-03-01T20:42:15.9281891Z",
              "livy_statement_state": "available",
              "queued_time": "2022-03-01T20:42:15.8040424Z",
              "session_id": 82,
              "session_start_time": null,
              "spark_pool": "dlzstgsynspads",
              "state": "finished",
              "statement_id": 5
            },
            "text/plain": [
              "StatementMeta(dlzstgsynspads, 82, 5, Finished, Available)"
            ]
          },
          "metadata": {},
          "output_type": "display_data"
        },
        {
          "name": "stdout",
          "output_type": "stream",
          "text": [
            "CustomerID"
          ]
        }
      ],
      "source": [
        "try:\n",
        "    print(\"Schema found - using schema json to find PK\")\n",
        "    schema = spark.read.load(Schema, format='json', multiLine=True)\n",
        "    #convert it into a list so we can loop it using python rules\n",
        "    schema = schema.collect()\n",
        "    #loop through each column to find the primary key column\n",
        "    for col in schema:\n",
        "        if col.PKEY_COLUMN:\n",
        "            print(col.COLUMN_NAME)\n",
        "            primaryKey = col\n",
        "            mergeCondition = \"oldData.\" + primaryKey.COLUMN_NAME + \" = newData.\" + primaryKey.COLUMN_NAME\n",
        "            break\n",
        "except:\n",
        "    print(\"Schema json not found - assuming source dataframe first column is PK\")\n",
        "    df = spark.read.load(Source, format=SourceDT)\n",
        "    primaryKey = df.columns[0]\n",
        "    print(primaryKey)\n",
        "    mergeCondition = \"oldData.\" + primaryKey + \" = newData.\" + primaryKey\n",
        "\n",
        "#set up the merge condition used in the next code block\n",
        "print(mergeCondition)"
      ]
    },
    {
      "cell_type": "code",
      "execution_count": null,
      "metadata": {
        "jupyter": {
          "outputs_hidden": false,
          "source_hidden": false
        },
        "nteract": {
          "transient": {
            "deleting": false
          }
        }
      },
      "outputs": [
        {
          "data": {
            "application/vnd.livy.statement-meta+json": {
              "execution_finish_time": "2022-02-28T21:55:18.8952766Z",
              "execution_start_time": "2022-02-28T21:54:59.2864675Z",
              "livy_statement_state": "available",
              "queued_time": "2022-02-28T21:54:59.0347829Z",
              "session_id": 77,
              "session_start_time": null,
              "spark_pool": "dlzstgsynspads",
              "state": "finished",
              "statement_id": 36
            },
            "text/plain": [
              "StatementMeta(dlzstgsynspads, 77, 36, Finished, Available)"
            ]
          },
          "metadata": {},
          "output_type": "display_data"
        },
        {
          "name": "stdout",
          "output_type": "stream",
          "text": [
            "Table already exists. Performing Merge"
          ]
        }
      ],
      "source": [
        "from delta.tables import *\n",
        "import pandas as pd\n",
        "if(TaskObjectJson['TMOptionals']['CDCSource'] == 'Enabled'):\n",
        "    print(\"CDC Source\")\n",
        "    df = spark.read.load(Source, format=SourceDT)\n",
        "    #these are our cdc specific columns\n",
        "    cdcCols = [\"__$start_lsn\", \"__$end_lsn\", \"__$seqval\", \"__$update_mask\", \"__$operation\", \"__$command_id\"]\n",
        "    #we are dropping all of the $ / _ as they cause issues with spark SQL functions -> this may be changed to just remove the first 3 chars of each of the cdcCols (__$)\n",
        "    cdcColsToDrop = [\"startlsn\", \"endlsn\", \"seqval\", \"updatemask\", \"operation\", \"commandid\"]\n",
        "    #these are columns we want to convert from binary data types to string as dataframes do not play nice with them currently\n",
        "   #colsToString = [\"__$start_lsn\", \"__$end_lsn\", \"__$seqval\", \"__$update_mask\"]\n",
        "    colsToString = [\"startlsn\", \"endlsn\", \"seqval\", \"updatemask\"]\n",
        "\n",
        "    for col in cdcCols:\n",
        "        new_col = col.replace('_','')\n",
        "        new_col = new_col.replace('$','')\n",
        "        df = df.withColumnRenamed(col, new_col)\n",
        "\n",
        "    for col in colsToString: \n",
        "        try:\n",
        "            df = df.withColumn(col, hex(col))\n",
        "        except:\n",
        "            print(\"Error converting the column \" + col)\n",
        "\n",
        "    #convert to pandas dataframe so we can do more manipulation\n",
        "    pdf = df.toPandas()\n",
        "\n",
        "    #we want to sort by our start lsn and then by the seqval so that we can drop everything except the most recent database change for every unique row\n",
        "    try:\n",
        "        #columns we are sorting by, the LSN and then the sequence value - ensure the latest is at the bottom of the table\n",
        "        pdf = pdf.sort_values(by=[\"startlsn\", \"seqval\"])\n",
        "    except:\n",
        "        print(\"error in finding valid sorting columns - skipping.\")\n",
        "    pdf_dedupe = pdf.drop_duplicates(subset=[primaryKey.COLUMN_NAME], keep='last', inplace=False)\n",
        "\n",
        "    df = spark.createDataFrame(pdf_dedupe)\n",
        "\n",
        "    #operation 1 is equal to delete, the other 3 operations (inserts old and new / upserts) can be done together\n",
        "    dfDeletes = df.filter(\"operation == 1\")\n",
        "    dfUpserts = df.filter(\"operation != 1\")\n",
        "    #We want to sort our columns by our primary key now that we have only the latest actions\n",
        "    dfDeletes = dfDeletes.sort(primaryKey.COLUMN_NAME)\n",
        "    dfUpserts = dfUpserts.sort(primaryKey.COLUMN_NAME)\n",
        "\n",
        "    #drop unwanted columns -> not needed for our delta table as they are cdc specific\n",
        "    for col in cdcColsToDrop:\n",
        "        try:\n",
        "            dfDeletes = dfDeletes.drop(col)\n",
        "            dfUpserts = dfUpserts.drop(col)\n",
        "        except:\n",
        "            print(\"Error dropping the column \" + col)\n",
        "\n",
        "    sql = 'describe detail \"' + Target + '\"'\n",
        "    try:\n",
        "        if (spark.sql(sql).collect()[0].asDict()['format'] == 'delta'):\n",
        "            print(\"Table already exists. Performing Merge\")\n",
        "            olddt = DeltaTable.forPath(spark, Target)  \n",
        "            olddt.alias(\"oldData\").merge(\n",
        "                dfUpserts.alias(\"newData\"),\n",
        "                mergeCondition) \\\n",
        "            .whenMatchedUpdateAll() \\\n",
        "            .whenNotMatchedInsertAll() \\\n",
        "            .execute()\n",
        "        else:\n",
        "            print(\"Table does not exist. No error, creating new Delta Table.\")    \n",
        "            dfUpserts.write.format(\"delta\").save(Target)\n",
        "    except: \n",
        "        print(\"Table does not exist, error thrown. Creating new Delta Table. Note - this error can be that no file is found.\") \n",
        "        dfUpserts.write.format(\"delta\").save(Target)\n",
        "\n",
        "    olddt = DeltaTable.forPath(spark, Target)  \n",
        "    olddt.alias(\"oldData\").merge(\n",
        "    dfDeletes.alias(\"newData\"),\n",
        "    mergeCondition) \\\n",
        "    .whenMatchedDelete() \\\n",
        "    .execute()  \n",
        "\n",
        "else:\n",
        "    print(\"Non CDC Source\")\n",
        "    if(TargetDT == 'Delta'):\n",
        "        print(\"SourceDT = \" + SourceDT + \", TargetDT = Delta.\")\n",
        "        df = spark.read.load(Source, format=SourceDT)\n",
        "        sql = 'describe detail \"' + Target + '\"'\n",
        "        try:\n",
        "            if (spark.sql(sql).collect()[0].asDict()['format'] == 'delta'):\n",
        "                print(\"Table already exists. Performing Merge\")\n",
        "                olddt = DeltaTable.forPath(spark, Target)  \n",
        "                olddt.alias(\"oldData\").merge(\n",
        "                    df.alias(\"newData\"),\n",
        "                    mergeCondition) \\\n",
        "                .whenMatchedUpdateAll() \\\n",
        "                .whenNotMatchedInsertAll() \\\n",
        "                .execute()\n",
        "            else:\n",
        "                print(\"Table does not exist. No error, creating new Delta Table.\")    \n",
        "                df.write.format(\"delta\").save(Target)\n",
        "        except:\n",
        "            print(\"Table does not exist. Creating new Delta Table.\")    \n",
        "            df.write.format(\"delta\").save(Target)\n",
        "    elif(TargetDT == 'Parquet' and SourceDT == 'Delta'):\n",
        "        print(\"SourceDT = Delta, TargetDT = Parquet.\")\n",
        "        df = spark.read.format(\"delta\").load(Source)\n",
        "        df.write.format(\"parquet\").mode(\"overwrite\").save(Target) "
      ]
    },
    {
      "cell_type": "code",
      "execution_count": null,
      "metadata": {
        "jupyter": {
          "outputs_hidden": false,
          "source_hidden": false
        },
        "nteract": {
          "transient": {
            "deleting": false
          }
        }
      },
      "outputs": [],
      "source": [
        "#This checks if the user wants to save the sink as a persistent table\n",
        "if(TaskObjectJson['TMOptionals']['SparkTableCreate'] == 'Enabled'):\n",
        "    print(\"Creating Spark Table\")\n",
        "    df = spark.read.load(Target, format='delta')\n",
        "    #targetDB = 'testdb2'\n",
        "    #targetTable = 'test2'\n",
        "    #SynapseSnapshots/Workspacename/dbname/tablename.parquet\n",
        "    #SynapseTarget = Target + '/'+ targetDB + '/' + targetTable\n",
        "    #SynapseTarget = 'abfss://datalakeraw@' + TaskObjectJson['TMOptionals']['PersistentStorage']\n",
        "    targetDB = TaskObjectJson['TMOptionals']['SparkTableDBName']\n",
        "    targetTable = TaskObjectJson['TMOptionals']['SparkTableName']\n",
        "    #if the target datatype is parquet then we do not need to create a copy of the data - we can use the recently saved sink target\n",
        "    if (TargetDT == 'Parquet'):\n",
        "        SnapshotTarget = Target\n",
        "    else:\n",
        "        SnapshotTarget = Target + '/'+ TaskObjectJson['TMOptionals']['SparkTableDBName'] + '/' + TaskObjectJson['TMOptionals']['SparkTableName']\n",
        "        #we need to update the parquet file - this is not very efficient but there isnt a current better way as delta tables are not supported for persistent tables\n",
        "        df.write.format(\"parquet\").mode(\"overwrite\").save(SnapshotTarget)\n",
        "\n",
        "\n",
        "    #we need to make the DB and table lowercase as synapse persistent tables dont identify them as different identities\n",
        "    targetDB = targetDB.lower()\n",
        "    targetTable = targetTable.lower()\n",
        "\n",
        "    #check if the specified DB / table exists - if so only do required actions.\n",
        "    dbList = spark.catalog.listDatabases()\n",
        "    dbExists = False\n",
        "    for db in dbList:\n",
        "        if (db.name == targetDB):\n",
        "            dbExists = True\n",
        "            break\n",
        "    if (dbExists):\n",
        "        print(\"DB Exists\")\n",
        "        tableExists = False\n",
        "        spark.catalog.setCurrentDatabase(targetDB)\n",
        "        tableList = spark.catalog.listTables()\n",
        "        for table in tableList:\n",
        "            if (table.name == targetTable):\n",
        "                tableExists = True\n",
        "                break\n",
        "        if (tableExists):\n",
        "            print(\"Table exists - nothing needed to be done\")\n",
        "            spark.catalog.refreshTable(targetTable)\n",
        "        else:\n",
        "            print(\"Table doesnt exist - creating\")\n",
        "            spark.catalog.createExternalTable(targetTable, path=SnapshotTarget, source='parquet')\n",
        "    else:\n",
        "        print(\"DB Doesnt exist - creating DB and table\")\n",
        "        createDBString = \"CREATE DATABASE \" + targetDB \n",
        "        spark.sql(createDBString)\n",
        "        spark.catalog.setCurrentDatabase(targetDB)\n",
        "        spark.catalog.createExternalTable(targetTable, path=SnapshotTarget, source='parquet')\n",
        "else:\n",
        "    print(\"Skipping Spark Table creation\")\n",
        "\n",
        "#%%sql\n",
        "#CREATE TABLE testdb.dbo.test\n",
        "#USING PARQUET OPTIONS ('path'= 'abfss://datalakeraw@arkstgdlsadsenrzadsl.dfs.core.windows.net/samples/SalesLT.Customer.chunk_2.parquet', 'inferschema'=true);\n",
        "#select * from testdb.dbo.test limit 10\n",
        "\n",
        "    "
      ]
    },
    {
      "cell_type": "code",
      "execution_count": null,
      "metadata": {
        "collapsed": false,
        "jupyter": {
          "outputs_hidden": false,
          "source_hidden": false
        },
        "nteract": {
          "transient": {
            "deleting": false
          }
        }
      },
      "outputs": [],
      "source": [
        "#olddt.history().show(20, 1000, False)\n",
        "#display(spark.read.format(\"delta\").load(Target))\n",
        "#spark.sql(\"CREATE TABLE SalesLTCustomer USING DELTA LOCATION '{0}'\".format(TargetFile))"
      ]
    },
    {
      "cell_type": "code",
      "execution_count": null,
      "metadata": {
        "jupyter": {
          "outputs_hidden": false,
          "source_hidden": false
        },
        "nteract": {
          "transient": {
            "deleting": false
          }
        }
      },
      "outputs": [],
      "source": [
        "## Execute Upsert\n",
        "#(old_deltaTable\n",
        "# .alias(\"oldData\") \n",
        "# .merge(newIncrementalData.alias(\"newData\"), \"oldData.id = newData.id\")\n",
        "# .whenMatchedUpdate(set = {\"name\": col(\"newData.name\")})\n",
        "# .whenNotMatchedInsert(values = {\"id\": col(\"newData.id\"), \"name\":\n",
        "#                                col(\"newData.name\")})\n",
        "# .execute()\n",
        "#)\n",
        "#\n",
        "# Display the records to check if the records are Merged\n",
        "#display(spark.read.format(\"delta\").load(Target))"
      ]
    },
    {
      "cell_type": "code",
      "execution_count": null,
      "metadata": {
        "jupyter": {
          "outputs_hidden": false,
          "source_hidden": false
        },
        "nteract": {
          "transient": {
            "deleting": false
          }
        }
      },
      "outputs": [],
      "source": [
        "#olddt.history().show(20, 1000, False)"
      ]
    },
    {
      "cell_type": "code",
      "execution_count": null,
      "metadata": {
        "jupyter": {
          "outputs_hidden": false,
          "source_hidden": false
        },
        "nteract": {
          "transient": {
            "deleting": false
          }
        }
      },
      "outputs": [],
      "source": [
        "#########################\n",
        "#NOTE -> This is an alternate way of upserting into delta table. Using manual method of getting each column required from the schema / dataframe and then creating a dictionary to use for the upsert.\n",
        "#           Currently not using this however it does work. Would advise to change the script to just create a dictionary and insert that instead of creating a string to convert into a dict.\n",
        "#########################\n",
        "#from delta.tables import *\n",
        "#df = spark.read.load(Source, format='parquet')\n",
        "#updatecols = []\n",
        "#insertcols = []\n",
        "#for col in schema:\n",
        "#    updatecols.append(col.COLUMN_NAME)\n",
        "#\n",
        "#for col in df.dtypes:\n",
        "#    insertcols.append(col[0])\n",
        "#\n",
        "#creating a string to be converted to dictionary \n",
        "#note -> can easily re-write this as just a dictionary if end up using this method.\n",
        "#updatestring = '{'\n",
        "#insertstring = '{'\n",
        "#\n",
        "#Go through each column in the schema to check what needs to be updated\n",
        "#for col in updatecols:\n",
        "#    updatestring = updatestring + '\"' + col + '\": \"newData.' + col +'\", '\n",
        "#updatestring = updatestring[:-2]\n",
        "#updatestring = updatestring + '}'\n",
        "#\n",
        "#Go through the new data to check what columns need to be inserted\n",
        "#for col in insertcols:\n",
        "#    insertstring = insertstring + '\"' + col + '\": \"newData.' + col +'\", '\n",
        "#insertstring = insertstring[:-2]\n",
        "#insertstring = insertstring + '}'\n",
        "#\n",
        "#print(updatestring)\n",
        "#print(insertstring)\n",
        "#\n",
        "#convert to dict\n",
        "#res = json.loads(updatestring)\n",
        "#res2 = json.loads(insertstring)\n",
        "#\n",
        "#sql = 'describe detail \"' + Target + '\"'\n",
        "#try:\n",
        "#    if (spark.sql(sql).collect()[0].asDict()['format'] == 'delta'):\n",
        "#        print(\"Table already exists. Performing Merge\")\n",
        "#        olddt = DeltaTable.forPath(spark, Target)  \n",
        "#        olddt.alias(\"oldData\").merge(\n",
        "#            df.alias(\"newData\"),\n",
        "#            mergeCondition) \\\n",
        "#        .whenMatchedUpdate(set = res) \\\n",
        "#        .whenNotMatchedInsert(values = res2) \\\n",
        "#        .execute()\n",
        "#except:\n",
        "#    print(\"Table does not exist.\")    \n",
        "#    df.write.format(\"delta\").save(Target)"
      ]
    },
    {
      "cell_type": "code",
      "execution_count": 55,
      "metadata": {
        "collapsed": false,
        "jupyter": {
          "outputs_hidden": false,
          "source_hidden": false
        },
        "nteract": {
          "transient": {
            "deleting": false
          }
        }
      },
      "outputs": [
        {
          "data": {
            "application/vnd.livy.statement-meta+json": {
              "execution_finish_time": "2022-04-04T03:46:37.4935481Z",
              "execution_start_time": "2022-04-04T03:46:14.1251549Z",
              "livy_statement_state": "available",
              "queued_time": "2022-04-04T03:46:14.012733Z",
              "session_id": 11,
              "session_start_time": null,
              "spark_pool": "arkstgsynspads",
              "state": "finished",
              "statement_id": 35
            },
            "text/plain": [
              "StatementMeta(arkstgsynspads, 11, 35, Finished, Available)"
            ]
          },
          "metadata": {},
          "output_type": "display_data"
        },
        {
          "name": "stdout",
          "output_type": "stream",
          "text": [
            "error in finding valid sorting columns - skipping.\n",
            "Table already exists. Performing Merge"
          ]
        }
      ],
      "source": [
        "#from delta.tables import * \n",
        "#import pandas as pd\n",
        "#Source = 'abfss://datalakeraw@arkstgdlsadsenrzadsl.dfs.core.windows.net/samples/SalesLT.Customer.chunk_1.parquet'\n",
        "#Target = 'abfss://datalakeraw@arkstgdlsadsenrzadsl.dfs.core.windows.net/samples/SalesLT_Customer_Delta/SalesLT.Customer'\n",
        "#mergeCondition = \"oldData.\" + \"CustomerID\" + \" = newData.\" + \"CustomerID\"\n",
        "\n",
        "#df = spark.read.load(Source, format='parquet')\n",
        "\n",
        "#these are our cdc specific columns\n",
        "#cdcCols = ['__$start_lsn', '__$end_lsn', '__$seqval', '__$operation', '__$update_mask', '__$command_id']\n",
        "\n",
        "#convert to pandas dataframe so we can do more manipulation\n",
        "#pdf = df.toPandas()\n",
        "#we want to sort by our start lsn and then by the seqval so that we can drop everything except the most recent database change for every unique row\n",
        "#try:\n",
        "    #columns we are sorting by, the LSN and then the sequence value - ensure the latest is at the bottom of the table\n",
        "#    pdf = pdf.sort_values(by=['__$start_lsn', '__$seqval'])\n",
        "#except:\n",
        "#   print(\"error in finding valid sorting columns - skipping.\")\n",
        "\n",
        "#df = pdf.drop_duplicates(subset=['CustomerID'], keep='last', inplace=False)\n",
        "#df_dedupe = pdf.drop_duplicates(subset=[primaryKey.COLUMN_NAME], keep='last', inplace=False)\n",
        "\n",
        "#df = spark.createDataFrame(df)\n",
        "#dfDeletes = df.filter(\"CustomerID < 100\")\n",
        "#dfUpserts = df.filter(\"CustomerID >= 100\")\n",
        "#dfDeletes = df.filter(\"__$operation == 1\")\n",
        "#dfUpserts = df.filter(\"__$operation != 1\")\n",
        "\n",
        "#drop unwanted columns -> not needed for our delta table as they are cdc specific\n",
        "#for col in cdcCols:\n",
        "#    try:\n",
        "#        dfDeletes = dfDeletes.drop(col)\n",
        "#        dfUpserts = dfUpserts.drop(col)\n",
        "#    except:\n",
        "#        print(\"Error dropping the column \" + col)\n",
        "\n",
        "#sql = 'describe detail \"' + Target + '\"'\n",
        "#try:\n",
        "#    if (spark.sql(sql).collect()[0].asDict()['format'] == 'delta'):\n",
        "#        print(\"Table already exists. Performing Merge\")\n",
        "#        olddt = DeltaTable.forPath(spark, Target)  \n",
        "#        olddt.alias(\"oldData\").merge(\n",
        "#            dfUpserts.alias(\"newData\"),\n",
        "#           mergeCondition) \\\n",
        "#        .whenMatchedUpdateAll() \\\n",
        "#        .whenNotMatchedInsertAll() \\\n",
        "#        .execute()\n",
        "#    else:\n",
        "#        print(\"Table does not exist. No error, creating new Delta Table.\")    \n",
        "#       dfUpserts.write.format(\"delta\").save(Target)\n",
        "#except: \n",
        "#    print(\"Table does not exist, error thrown. Creating new Delta Table.\")    \n",
        "#    dfUpserts.write.format(\"delta\").save(Target)\n",
        "\n",
        "#olddt = DeltaTable.forPath(spark, Target)  \n",
        "#olddt.alias(\"oldData\").merge(\n",
        "#dfDeletes.alias(\"newData\"),\n",
        "#mergeCondition) \\\n",
        "#.whenMatchedDelete() \\\n",
        "#.execute()  \n",
        "#display(dfDeletes)\n",
        "\n",
        "#df.write.format(\"delta\").save(Target)\n"
      ]
    },
    {
      "cell_type": "code",
      "execution_count": 22,
      "metadata": {
        "jupyter": {
          "outputs_hidden": false,
          "source_hidden": false
        },
        "nteract": {
          "transient": {
            "deleting": false
          }
        }
      },
      "outputs": [
        {
          "data": {
            "application/vnd.livy.statement-meta+json": {
              "execution_finish_time": "2022-04-05T03:38:00.538927Z",
              "execution_start_time": null,
              "livy_statement_state": null,
              "queued_time": "2022-04-05T03:37:56.6276679Z",
              "session_id": null,
              "session_start_time": "2022-04-05T03:37:56.8936651Z",
              "spark_pool": null,
              "state": "cancelled",
              "statement_id": null
            },
            "text/plain": [
              "StatementMeta(, , , Cancelled, )"
            ]
          },
          "metadata": {},
          "output_type": "display_data"
        }
      ],
      "source": [
        "#from delta.tables import * \n",
        "#import pandas as pd\n",
        "\n",
        "#df = spark.createDataFrame([\"0x0000019600000178002D\",\"0x0000019600000178002D\",\"0x0000019600000178002D\", \"0x0000019600000178002A\"], \"string\").toDF(\"hex\")\n",
        "#hex2 = ['0x00000194000000A80002', '0x00000A94000000A80002', '0x00000194000000B80004', '0x00000194000000B80000']\n",
        "\n",
        "#pdf = df.toPandas()\n",
        "#pdf['hex2'] = hex2\n",
        "\n",
        "\n",
        "#df = spark.createDataFrame(pdf)\n",
        "#df_dedupe = df.dropDuplicates('hex')\n",
        "#df_dedupe = df.dropDuplicates(primaryKey.COLUMN_NAME)\n",
        "\n",
        "\n",
        "#pdf['hex'] = pdf['hex'].apply(int, base=16)\n",
        "\n",
        "#pdf = pdf.sort_values(by=['hex','hex2'])\n",
        "#show(df_dedupe)"
      ]
    },
    {
      "cell_type": "code",
      "execution_count": null,
      "metadata": {
        "jupyter": {
          "outputs_hidden": false,
          "source_hidden": false
        },
        "nteract": {
          "transient": {
            "deleting": false
          }
        }
      },
      "outputs": [],
      "source": []
    }
  ],
  "metadata": {
    "kernelspec": {
      "display_name": "python",
      "name": "synapse_pyspark"
    },
    "language_info": {
      "name": "python"
    },
    "save_output": true,
    "synapse_widget": {
      "state": {},
      "version": "0.1"
    }
  },
  "nbformat": 4,
  "nbformat_minor": 2
}
