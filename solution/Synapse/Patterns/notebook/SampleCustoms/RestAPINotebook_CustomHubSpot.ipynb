{
  "cells": [
    {
      "cell_type": "code",
      "execution_count": 1,
      "metadata": {
        "jupyter": {
          "outputs_hidden": false,
          "source_hidden": false
        },
        "nteract": {
          "transient": {
            "deleting": false
          }
        },
        "tags": [
          "parameters"
        ]
      },
      "outputs": [],
      "source": [
        "TaskObject = \"\""
      ]
    },
    {
      "cell_type": "code",
      "execution_count": 82,
      "metadata": {
        "jupyter": {
          "outputs_hidden": true
        },
        "tags": []
      },
      "outputs": [],
      "source": [
        "import requests\n",
        "from requests.auth import HTTPDigestAuth\n",
        "from notebookutils import mssparkutils\n",
        "import re\n",
        "import json\n",
        "import pandas as pd\n",
        "from datetime import date\n",
        "from datetime import datetime\n",
        "\n",
        "#TaskObject = \"{\\\"TaskInstanceId\\\":8,\\\"TaskMasterId\\\":6,\\\"TaskStatus\\\":\\\"InProgress\\\",\\\"TaskType\\\":\\\"REST API to Azure Storage\\\",\\\"Enabled\\\":1,\\\"ExecutionUid\\\":\\\"7a050f7a-5a32-4e49-8fdd-e70fcc5269d8\\\",\\\"NumberOfRetries\\\":1,\\\"DegreeOfCopyParallelism\\\":1,\\\"KeyVaultBaseUrl\\\":\\\"https:// ark-stg-kv-ads-ikjn.vault.azure.net/\\\",\\\"ScheduleMasterId\\\":\\\"-4\\\",\\\"TaskGroupConcurrency\\\":\\\"10\\\",\\\"TaskGroupPriority\\\":0,\\\"TaskExecutionType\\\":\\\"ADF\\\",\\\"ExecutionEngine\\\":{\\\"EngineId\\\":-2,\\\"EngineName\\\":\\\"arkstgsynwadsikjn\\\",\\\"SystemType\\\":\\\"Synapse\\\",\\\"ResourceGroup\\\":\\\"LockboxDev01\\\",\\\"SubscriptionId\\\":\\\"687fe1ae-a520-4f86-b921-a80664c40f9b\\\",\\\"ADFPipeline\\\":\\\"GPL_SparkNotebookExecution_Azure\\\",\\\"EngineJson\\\":\\\"{\\\\r\\\\n            \\\\\\\"endpoint\\\\\\\": \\\\\\\"https://arkstgsynwadsikjn.dev.azuresynapse.net\\\\\\\", \\\\\\\"DeltaProcessingNotebook\\\\\\\": \\\\\\\"DeltaProcessingNotebook\\\\\\\", \\\\\\\"PurviewAccountName\\\\\\\": \\\\\\\"dlzdev07purv\\\\\\\", \\\\\\\"DefaultSparkPoolName\\\\\\\":\\\\\\\"Dummy\\\\\\\"\\\\r\\\\n        }\\\",\\\"TaskDatafactoryIR\\\":\\\"Azure\\\",\\\"JsonProperties\\\":{\\\"endpoint\\\":\\\"https://arkstgsynwadsikjn.dev.azuresynapse.net\\\",\\\"DeltaProcessingNotebook\\\":\\\"DeltaProcessingNotebook\\\",\\\"PurviewAccountName\\\":\\\"dlzdev07purv\\\",\\\"DefaultSparkPoolName\\\":\\\"Dummy\\\"}},\\\"Source\\\":{\\\"System\\\":{\\\"SystemId\\\":-19,\\\"SystemServer\\\":\\\"(baseurl?)\\\",\\\"AuthenticationType\\\":\\\"MSI\\\",\\\"Type\\\":\\\"Rest\\\",\\\"Username\\\":null,\\\"BaseUrl\\\":\\\"https://api.hubapi.com\\\",\\\"NextPageUrlKey\\\":\\\"link\\\",\\\"headers\\\":\\\"{}\\\"},\\\"Instance\\\":{\\\"TargetRelativePath\\\":\\\"{y}/{m}/{d}/\\\"},\\\"Pagination\\\":\\\"NextPageUrlKey\\\",\\\"RelativeUrl\\\":\\\"/crm/v3/objects/contacts?limit=100&properties=firstname%2Clastname%2Cemail%2Cphone%2Ccompany&hapikey=$InsertSecret($KeyVault(ark-stg-kv-ads-ikjn).$SecretName(HubSpotAPIToken).$LinkedServiceName(SLS_AzureKeyVault))$END\\\",\\\"RequestBody\\\":\\\"\\\",\\\"RequestMethod\\\":\\\"GET\\\",\\\"Type\\\":\\\"Rest\\\"},\\\"Target\\\":{\\\"System\\\":{\\\"SystemId\\\":-8,\\\"SystemServer\\\":\\\"https://arkstgdlsadsikjnadsl.dfs.core.windows.net\\\",\\\"AuthenticationType\\\":\\\"MSI\\\",\\\"Type\\\":\\\"ADLS\\\",\\\"Username\\\":null,\\\"Container\\\":\\\"datalakelanding\\\"},\\\"Instance\\\":{\\\"TargetRelativePath\\\":\\\"{y}/{m}/{d}/\\\"},\\\"DataFileName\\\":\\\"TestHubSpot\\\",\\\"PartitionSize\\\":\\\"Multiple\\\",\\\"RelativePath\\\":\\\"\\\",\\\"Type\\\":\\\"Json\\\"},\\\"TMOptionals\\\":{\\\"ExecuteNotebook\\\":\\\"RestAPINotebook\\\",\\\"Purview\\\":\\\"Disabled\\\",\\\"QualifiedIDAssociation\\\":\\\"TaskMasterId\\\",\\\"UseNotebookActivity\\\":\\\"Enabled\\\"}}\"\n",
        "TaskObjectJson = json.loads(TaskObject)\n",
        "#Creating Headers\n",
        "headers = TaskObjectJson[\"Source\"][\"System\"][\"headers\"]\n",
        "#print(headers)\n",
        "headers = json.loads(headers)\n",
        "for a,b in headers.items():\n",
        "    if (\"$InsertSecret\" in b):\n",
        "        result = re.search('\\$KeyVault\\((.*)\\)\\.\\$Secret', b)\n",
        "        keyVaultName = (result.group(1))\n",
        "        result = re.search('\\$SecretName\\((.*)\\)\\.', b)\n",
        "        secretName = (result.group(1))\n",
        "        result = re.search('\\$LinkedServiceName\\((.*)\\)\\)', b)\n",
        "        linkedServiceName = (result.group(1))\n",
        "        secret = TokenLibrary.getSecret(keyVaultName, secretName, linkedServiceName)\n",
        "        headers[a] = re.match(\"^.*(?=(\\$InsertSecret))\",b).group() + secret\n",
        "#print(headers)\n",
        "\n",
        "\n",
        "#Create Request Body\n",
        "if(TaskObjectJson[\"Source\"][\"RequestBody\"] == \"\" or TaskObjectJson[\"Source\"][\"RequestMethod\"] == \"GET\"):\n",
        "    payload = {}\n",
        "else:\n",
        "    payload = json.loads(TaskObjectJson[\"Source\"][\"RequestBody\"])\n",
        "    payload = json.dumps(payload)\n",
        "\n",
        "\n",
        "#Get RequestMethod / Set up Full URL\n",
        "#print(payload)\n",
        "requestMethod = TaskObjectJson[\"Source\"][\"RequestMethod\"]\n",
        "\n",
        "\n",
        "url = TaskObjectJson[\"Source\"][\"System\"][\"BaseUrl\"] + TaskObjectJson[\"Source\"][\"RelativeUrl\"]\n",
        "#url = baseurl + relativeurl\n",
        "#Search URL for any secret\n",
        "if (\"$InsertSecret\" in url):\n",
        "    result = re.search('\\$KeyVault\\((.*)\\)\\.\\$Secret', url)\n",
        "    keyVaultName = (result.group(1))\n",
        "    result = re.search('\\$SecretName\\((.*)\\)\\.', url)\n",
        "    secretName = (result.group(1))\n",
        "    result = re.search('\\$LinkedServiceName\\((.*)\\)\\)', url)\n",
        "    linkedServiceName = (result.group(1))\n",
        "    secret = TokenLibrary.getSecret(keyVaultName, secretName, linkedServiceName)\n",
        "    urlpt1 = re.match(\"^.*(?=(\\$InsertSecret))\",url).group() + secret\n",
        "    urlpt2 = url.split(\"$END\")[1]\n",
        "    url = urlpt1 + urlpt2\n",
        " \n",
        "#print(url)\n",
        "response = requests.request(requestMethod, url, headers=headers, data=payload)\n",
        "#print(response.content)\n",
        "\n",
        "now = datetime.now()\n",
        "\n",
        "#TARGET\n",
        "Target = TaskObjectJson['Target']['System']['Container'] + \"@\" + TaskObjectJson['Target']['System']['SystemServer'].replace(\"https://\",\"\") + \"/\"\n",
        "Target = Target + TaskObjectJson['Target']['Instance']['TargetRelativePath'] + \"/\" + TaskObjectJson['Target']['DataFileName']\n",
        "Target = Target.replace('//', '/')\n",
        "Target = \"abfss://\" + Target\n",
        "Target = Target.replace(\"{yyyy}\", \"%Y\")\n",
        "Target = Target.replace(\"{MM}\", \"%m\")\n",
        "Target = Target.replace(\"{dd}\", \"%d\")\n",
        "Target = Target.replace(\"{hh}\", \"%H\")\n",
        "Target = Target.replace(\"{mm}\", \"%M\")\n",
        "Target = now.strftime(Target)\n",
        "print(\"SAVE TARGET: \" + Target)\n",
        "partitionSize = TaskObjectJson['Target']['PartitionSize']\n",
        "jData = json.loads(response.content)\n",
        "\n",
        "pagination = TaskObjectJson[\"Source\"][\"Pagination\"]\n",
        "#PAGINATION - This is modified from the default one.\n",
        "if(pagination == \"NextPageUrlKey\"):\n",
        "    #we find our next page key\n",
        "    nextPageKey = TaskObjectJson[\"Source\"][\"System\"][\"NextPageUrlKey\"]\n",
        "    nextPageUrl = \"\"\n",
        "    print(nextPageKey)\n",
        "    json_data_list = []\n",
        "    paginationCheck = True\n",
        "\n",
        "    #jData = json.loads(response.content)\n",
        "    json_data_list.append(jData)\n",
        "    while(paginationCheck):\n",
        "        if(\"paging\" in jData):\n",
        "            paginationUrl = jData['paging']['next'][nextPageKey]\n",
        "            #print(paginationUrl)\n",
        "            paginationUrl = paginationUrl + \"&hapikey=\" + secret\n",
        "            #print(paginationUrl)\n",
        "            response = requests.request(requestMethod, paginationUrl, headers=headers, data=payload)\n",
        "            jData = json.loads(response.content)\n",
        "            json_data_list.append(jData)\n",
        "        else:\n",
        "            paginationCheck = False\n",
        "    #Create our neat json file\n",
        "    fullList = []\n",
        "    for ls in json_data_list:\n",
        "        for res in ls['results']:\n",
        "            for key, value in res['properties'].items():\n",
        "                res[key] = value\n",
        "            res.pop('properties')\n",
        "            #res.pop('hs_object_id')\n",
        "            fullList.append(res)\n",
        "\n",
        "    \n",
        "    fullJson = { \"combinedJson\": fullList }\n",
        "    fullJson = json.dumps(fullJson)\n",
        "    df = spark.read.json(sc.parallelize([fullJson]))\n",
        "    if(partitionSize == \"Multiple\"):\n",
        "        df.write.format(\"json\").mode(\"overwrite\").save(Target)\n",
        "    else:\n",
        "        df.write.format(\"json\").mode(\"overwrite\").coalesce(1).save(Target)\n",
        "\n",
        "else:\n",
        "    #SAVE RESPONSE\n",
        "    df = spark.read.json(sc.parallelize([jData]))\n",
        "    if(partitionSize == \"Multiple\"):\n",
        "        df.write.format(\"json\").mode(\"overwrite\").save(Target)\n",
        "    else:\n",
        "        df.write.format(\"json\").mode(\"overwrite\").coalesce(1).save(Target)\n"
      ]
    },
    {
      "cell_type": "code",
      "execution_count": null,
      "metadata": {
        "jupyter": {
          "outputs_hidden": false,
          "source_hidden": false
        },
        "nteract": {
          "transient": {
            "deleting": false
          }
        }
      },
      "outputs": [],
      "source": []
    }
  ],
  "metadata": {
    "kernelspec": {
      "display_name": "Synapse PySpark",
      "name": "synapse_pyspark"
    },
    "language_info": {
      "name": "python"
    },
    "save_output": true,
    "synapse_widget": {
      "state": {},
      "version": "0.1"
    }
  },
  "nbformat": 4,
  "nbformat_minor": 2
}
