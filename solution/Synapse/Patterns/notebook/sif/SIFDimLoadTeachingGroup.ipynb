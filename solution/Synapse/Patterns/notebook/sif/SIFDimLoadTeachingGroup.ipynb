{
  "cells": [
    {
      "cell_type": "code",
      "source": [
        "TaskObject = \" \\\r\n",
        "{   \\\"TaskInstanceId\\\":53, \\\r\n",
        "    \\\"TaskMasterId\\\":1, \\\r\n",
        "    \\\"TaskStatus\\\":\\\"InProgress\\\",\\\r\n",
        "    \\\"TaskType\\\":\\\"Execute Synapse Notebook\\\",\\\r\n",
        "    \\\"Enabled\\\":1, \\\r\n",
        "    \\\"ExecutionUid\\\": \\\"dc872650-b992-4cae-9ae2-c714c95563ee\\\", \\\r\n",
        "    \\\"NumberOfRetries\\\":2, \\\r\n",
        "    \\\"DegreeOfCopyParallelism\\\":1, \\\r\n",
        "    \\\"KeyVaultBaseUrl\\\":\\\"https://ads-dev-kv-ads-orgp.vault.azure.net\\\", \\\r\n",
        "    \\\"ScheduleMasterId\\\":\\\"-4\\\", \\\r\n",
        "    \\\"TaskGroupConcurrency\\\":\\\"10\\\", \\\r\n",
        "    \\\"TaskGroupPriority\\\":0, \\\r\n",
        "    \\\"TaskExecutionType\\\":\\\"ADF\\\", \\\r\n",
        "    \\\"Source\\\": {\\\r\n",
        "        \\\"System\\\": {\\\r\n",
        "            \\\"SystemId\\\": -10,\\\r\n",
        "            \\\"SystemServer\\\": \\\"adsdevsynwadsorgp.sql.azuresynapse.net\\\",\\\r\n",
        "            \\\"AuthenticationType\\\": \\\"MSI\\\",\\\r\n",
        "            \\\"Type\\\": \\\"Azure Synapse\\\",\\\r\n",
        "            \\\"Username\\\": null,\\\r\n",
        "            \\\"Workspace\\\": \\\"adsdevsynwadsorgp\\\",\\\r\n",
        "            \\\"Database\\\": \\\"adsdevsyndpads\\\"\\\r\n",
        "        },\\\r\n",
        "        \\\"Instance\\\":{ \\\r\n",
        "            \\\"SourceRelativePath\\\":\\\"\\\", \\\r\n",
        "            \\\"TargetRelativePath\\\":\\\"\\\" \\\r\n",
        "        }, \\\r\n",
        "        \\\"DataFileName\\\":\\\"\\\", \\\r\n",
        "        \\\"RelativePath\\\":\\\"\\\", \\\r\n",
        "        \\\"SchemaFileName\\\":\\\"\\\", \\\r\n",
        "        \\\"Type\\\":\\\"Notebook-Optional\\\", \\\r\n",
        "        \\\"WriteSchemaToPurview\\\":\\\"Disabled\\\" \\\r\n",
        "    }, \\\r\n",
        "    \\\"Target\\\":{ \\\r\n",
        "        \\\"System\\\": {\\\r\n",
        "            \\\"SystemId\\\": -10,\\\r\n",
        "            \\\"SystemServer\\\": \\\"adsdevsynwadsorgp.sql.azuresynapse.net\\\",\\\r\n",
        "            \\\"AuthenticationType\\\": \\\"MSI\\\",\\\r\n",
        "            \\\"Type\\\": \\\"Azure Synapse\\\",\\\r\n",
        "            \\\"Username\\\": null,\\\r\n",
        "            \\\"Workspace\\\": \\\"adsdevsynwadsorgp\\\",\\\r\n",
        "            \\\"Database\\\": \\\"adsdevsyndpads\\\"\\\r\n",
        "        },\\\r\n",
        "        \\\"Instance\\\":{ \\\r\n",
        "            \\\"SourceRelativePath\\\":\\\"\\\", \\\r\n",
        "            \\\"TargetRelativePath\\\":\\\"\\\" \\\r\n",
        "        }, \\\r\n",
        "        \\\"DataFileName\\\":\\\"\\\", \\\r\n",
        "        \\\"RelativePath\\\":\\\"\\\", \\\r\n",
        "        \\\"SchemaFileName\\\":\\\"\\\", \\\r\n",
        "        \\\"Type\\\":\\\"Notebook-Optional\\\", \\\r\n",
        "        \\\"WriteSchemaToPurview\\\":\\\"Disabled\\\" \\\r\n",
        "        }, \\\r\n",
        "    \\\"TMOptionals\\\":{ \\\r\n",
        "        \\\"CustomDefinitions\\\": \\\"SparkDatabaseName=sif\\\",\\\r\n",
        "        \\\"ExecuteNotebook\\\":\\\"SIFLoadDimStaffPersonal\\\", \\\r\n",
        "        \\\"Purview\\\":\\\"Disabled\\\", \\\r\n",
        "        \\\"QualifiedIDAssociation\\\":\\\"TaskMasterId\\\", \\\r\n",
        "        \\\"UseNotebookActivity\\\":\\\"Enabled\\\" \\\r\n",
        "        } \\\r\n",
        "    }\" "
      ],
      "outputs": [
        {
          "output_type": "display_data",
          "data": {
            "application/vnd.livy.statement-meta+json": {
              "spark_pool": "adsdevsynspads",
              "session_id": "9",
              "statement_id": 2,
              "state": "finished",
              "livy_statement_state": "available",
              "queued_time": "2022-07-19T10:35:51.3362799Z",
              "session_start_time": "2022-07-19T10:35:51.3710722Z",
              "execution_start_time": "2022-07-19T10:38:38.2527842Z",
              "execution_finish_time": "2022-07-19T10:38:38.4140433Z",
              "spark_jobs": null
            },
            "text/plain": "StatementMeta(adsdevsynspads, 9, 2, Finished, Available)"
          },
          "metadata": {}
        }
      ],
      "execution_count": 1,
      "metadata": {}
    },
    {
      "cell_type": "code",
      "source": [
        "import random\r\n",
        "import json\r\n",
        "from pyspark.sql import Row\r\n",
        "from pyspark.sql.types import *\r\n",
        "from pyspark.sql.functions import *\r\n",
        "\r\n",
        "session_id = random.randint(0,1000000)\r\n",
        "#invalid source\r\n",
        "##TaskObject = \"{\\\"TaskInstanceId\\\":1,\\\"TaskMasterId\\\":2,\\\"TaskStatus\\\":\\\"InProgress\\\",\\\"TaskType\\\":\\\"TestTask Type Name\\\",\\\"Enabled\\\":1,\\\"ExecutionUid\\\":\\\"8448eabb-9ba4-4779-865b-29e973431273\\\",\\\"NumberOfRetries\\\":0,\\\"DegreeOfCopyParallelism\\\":1,\\\"KeyVaultBaseUrl\\\":\\\"https://ark-stg-kv-ads-irud.vault.azure.net/\\\",\\\"ScheduleMasterId\\\":\\\"-4\\\",\\\"TaskGroupConcurrency\\\":\\\"10\\\",\\\"TaskGroupPriority\\\":0,\\\"TaskExecutionType\\\":\\\"ADF\\\",\\\"ExecutionEngine\\\":{\\\"EngineId\\\":-1,\\\"EngineName\\\":\\\"ark-stg-adf-ads-irud\\\",\\\"SystemType\\\":\\\"Datafactory\\\",\\\"ResourceGroup\\\":\\\"dlzdev04\\\",\\\"SubscriptionId\\\":\\\"ed1206e0-17c7-4bc2-ad4b-f8d4dab9284f\\\",\\\"ADFPipeline\\\":\\\"GPL_AzureSqlTable_NA_AzureBlobFS_Parquet_Azure\\\",\\\"EngineJson\\\":\\\"{}\\\",\\\"TaskDatafactoryIR\\\":\\\"Azure\\\",\\\"JsonProperties\\\":{}},\\\"Source\\\":{\\\"System\\\":{\\\"SystemId\\\":-8,\\\"SystemServer\\\":\\\"https://arkstgdlsadsirudadsl.dfs.core.windows.net\\\",\\\"AuthenticationType\\\":\\\"MSI\\\",\\\"Type\\\":\\\"ADLS\\\",\\\"Username\\\":null,\\\"Container\\\":\\\"datalakelanding\\\"},\\\"Instance\\\":{\\\"TargetRelativePath\\\":\\\"\\\"},\\\"DataFileName\\\":\\\"TestFile.parquet\\\",\\\"RelativePath\\\":\\\"\\\",\\\"SchemaFileName\\\":\\\"TestFile.json\\\"},\\\"Target\\\":{\\\"System\\\":{\\\"SystemId\\\":-8,\\\"SystemServer\\\":\\\"https://arkstgdlsadsirudadsl.dfs.core.windows.net\\\",\\\"AuthenticationType\\\":\\\"MSI\\\",\\\"Type\\\":\\\"ADLS\\\",\\\"Username\\\":null,\\\"Container\\\":\\\"datalakelanding\\\"},\\\"Instance\\\":{\\\"TargetRelativePath\\\":\\\"\\\"},\\\"DataFileName\\\":\\\"TestFile.parquet\\\",\\\"RelativePath\\\":\\\"\\\",\\\"SchemaFileName\\\":\\\"TestFile.json\\\",\\\"Type\\\":\\\"Parquet\\\"}}\"\r\n",
        "#valid source\r\n",
        "#TaskObject = \"{\\\"TaskInstanceId\\\":1,\\\"TaskMasterId\\\":2,\\\"TaskStatus\\\":\\\"InProgress\\\",\\\"TaskType\\\":\\\"TestTask Type Name\\\", \\\"Enabled\\\":1,\\\"ExecutionUid\\\":\\\"8448eabb-9ba4-4779-865b-29e973431273\\\",\\\"NumberOfRetries\\\":0,\\\"DegreeOfCopyParallelism\\\":1, \\\"KeyVaultBaseUrl\\\":\\\"https://ads-dev-kv-ads-ic038069.vault.azure.net/\\\",\\\"ScheduleMasterId\\\":\\\"-4\\\",\\\"TaskGroupConcurrency\\\":\\\"10\\\", \\\"TaskGroupPriority\\\":0,\\\"TaskExecutionType\\\":\\\"ADF\\\",\\\"ExecutionEngine\\\":{\\\"EngineId\\\":-1,\\\"EngineName\\\":\\\"ads-dev-kv-ads-ic038069\\\", \\\"SystemType\\\":\\\"Microsoft.Synapse/workspaces\\\",\\\"ResourceGroup\\\":\\\"sifgofast\\\",\\\"SubscriptionId\\\":\\\"cd486ba9-eef3-466d-b16c-7f1b2941ae9d\\\", \\\"ADFPipeline\\\":\\\"GPL_AzureSqlTable_NA_AzureBlobFS_Parquet_Azure\\\",\\\"EngineJson\\\":\\\"{}\\\",\\\"TaskDatafactoryIR\\\":\\\"Azure\\\", \\\"JsonProperties\\\":{}},\\\"Source\\\":{\\\"System\\\":{\\\"SystemId\\\":-8,\\\"SystemServer\\\":\\\"https://adsdevdlsadsic03adsl.blob.core.windows.net\\\", \\\"AuthenticationType\\\":\\\"MSI\\\",\\\"Type\\\":\\\"ADLS\\\",\\\"Username\\\":null,\\\"Container\\\":\\\"adsdevdlsadsic03\\\"},\\\"Instance\\\":\\\"\\\",{\\\"TargetRelativePath\\\":\\\"synapse/sif\\\"}, \\\"DataFileName\\\":\\\"StudentPersonal.parquet\\\",\\\"SourceRelativePath\\\":\\\"synapse/sif\\\",\\\"SchemaFileName\\\":\\\"StudentPersonal.json\\\",\\\"Type\\\":\\\"Parquet\\\"}, \\\"Target\\\":{\\\"System\\\":{\\\"SystemId\\\":-8,\\\"SystemServer\\\":\\\"https://adsdevdlsadsic03adsl.blob.core.windows.net\\\", \\\"AuthenticationType\\\":\\\"MSI\\\",\\\"Type\\\":\\\"ABS\\\",\\\"Username\\\":null,\\\"Container\\\":\\\"adsdevdlsadsic03\\\"}, \\\"Instance\\\":{\\\"TargetRelativePath\\\":\\\"\\\"},\\\"DataFileName\\\":\\\"StudentPersonal.parquet\\\",\\\"SourceRelativePath\\\":\\\"synapse\\/sif\\\", \\\"SchemaFileName\\\":\\\"StudentPersonal.json\\\",\\\"Type\\\":\\\"Parquet\\\"}}\"\r\n",
        "TaskDict = {}\r\n",
        "OutputDict = {}\r\n",
        "TaskObjectJson = json.loads(TaskObject)\r\n",
        "\r\n",
        "##we want to delete EngineJson as it causes issues when converting back to a json and it is not needed as its properties are within JsonProperties as children\r\n",
        "try:\r\n",
        "    del TaskObjectJson['ExecutionEngine']['EngineJson']\r\n",
        "except:\r\n",
        "    print(\"No EngineJson Found\")\r\n",
        "\r\n",
        "\r\n",
        "SifDbName = \"sif\"\r\n",
        "tmopts = TaskObjectJson['TMOptionals']['CustomDefinitions'].split(\",\")\r\n",
        "for o in tmopts:\r\n",
        "    opt = o.split(\"=\")\r\n",
        "    if (opt[0] == \"SparkDatabaseName\"):\r\n",
        "        SifDbName = opt[1].lower()\r\n",
        "        break\r\n",
        "\r\n",
        "print(SifDbName)"
      ],
      "outputs": [
        {
          "output_type": "display_data",
          "data": {
            "application/vnd.livy.statement-meta+json": {
              "spark_pool": "adsdevsynspads",
              "session_id": "9",
              "statement_id": 3,
              "state": "finished",
              "livy_statement_state": "available",
              "queued_time": "2022-07-19T10:49:06.0388961Z",
              "session_start_time": null,
              "execution_start_time": "2022-07-19T10:49:06.3015369Z",
              "execution_finish_time": "2022-07-19T10:49:06.4821123Z",
              "spark_jobs": null
            },
            "text/plain": "StatementMeta(adsdevsynspads, 9, 3, Finished, Available)"
          },
          "metadata": {}
        },
        {
          "output_type": "stream",
          "name": "stdout",
          "text": [
            "No EngineJson Found\nsif\n"
          ]
        }
      ],
      "execution_count": 2,
      "metadata": {
        "jupyter": {
          "source_hidden": false,
          "outputs_hidden": false
        },
        "nteract": {
          "transient": {
            "deleting": false
          }
        }
      }
    },
    {
      "cell_type": "code",
      "source": [
        "spark.catalog.setCurrentDatabase(SifDbName)"
      ],
      "outputs": [
        {
          "output_type": "display_data",
          "data": {
            "application/vnd.livy.statement-meta+json": {
              "spark_pool": "adsdevsynspads",
              "session_id": "9",
              "statement_id": 4,
              "state": "finished",
              "livy_statement_state": "available",
              "queued_time": "2022-07-19T10:49:10.0977617Z",
              "session_start_time": null,
              "execution_start_time": "2022-07-19T10:49:10.2077785Z",
              "execution_finish_time": "2022-07-19T10:49:22.8670019Z",
              "spark_jobs": null
            },
            "text/plain": "StatementMeta(adsdevsynspads, 9, 4, Finished, Available)"
          },
          "metadata": {}
        }
      ],
      "execution_count": 3,
      "metadata": {
        "jupyter": {
          "source_hidden": false,
          "outputs_hidden": false
        },
        "nteract": {
          "transient": {
            "deleting": false
          }
        }
      }
    },
    {
      "cell_type": "markdown",
      "source": [
        "# Create Teaching Group "
      ],
      "metadata": {
        "nteract": {
          "transient": {
            "deleting": false
          }
        }
      }
    },
    {
      "cell_type": "code",
      "source": [
        "from pyspark.sql.functions import *\r\n",
        "df_Raw = spark.sql(\"select * from raw_teachinggroup\")\r\n",
        "df_RawWJ = df_Raw.withColumn('json',to_json (struct (col ('*')))).select(\"RefId\", \"json\", \"StudentList\")\r\n",
        "\r\n",
        "df_Out = df_RawWJ \\\r\n",
        ".withColumn('SchoolYear',get_json_object(col('json'), '$.SchoolYear')) \\\r\n",
        ".withColumn('LocalId',get_json_object(col('json'), '$.LocalId')) \\\r\n",
        ".withColumn('ShortName',get_json_object(col('json'), '$.ShortName')) \\\r\n",
        ".withColumn('LongName',get_json_object(col('json'), '$.LongName')) \\\r\n",
        ".withColumn('GroupType',get_json_object(col('json'), '$.GroupType')) \\\r\n",
        ".withColumn('Set',get_json_object(col('json'), '$.Set')) \\\r\n",
        ".withColumn('Block',get_json_object(col('json'), '$.Block')) \\\r\n",
        ".withColumn('CurriculumLevel',get_json_object(col('json'), '$.CurriculumLevel')) \\\r\n",
        ".withColumn('SchoolInfoRefId',get_json_object(col('json'), '$.SchoolInfoRefId')) \\\r\n",
        ".withColumn('SchoolLocalId',get_json_object(col('json'), '$.SchoolLocalId')) \\\r\n",
        ".withColumn('SchoolCourseInfoRefId',get_json_object(col('json'), '$.SchoolCourseInfoRefId')) \\\r\n",
        ".withColumn('SchoolCourseLocalId',get_json_object(col('json'), '$.SchoolCourseLocalId')) \\\r\n",
        ".withColumn('TimeTableSubjectRefId',get_json_object(col('json'), '$.TimeTableSubjectRefId')) \\\r\n",
        ".withColumn('TimeTableSubjectLocalId',get_json_object(col('json'), '$.TimeTableSubjectLocalId')) \\\r\n",
        ".withColumn('KeyLearningArea',get_json_object(col('json'), '$.KeyLearningArea')) \\\r\n",
        ".withColumn('Semester',get_json_object(col('json'), '$.Semester')) \\\r\n",
        ".withColumn('MinClassSize',get_json_object(col('json'), '$.MinClassSize')) \\\r\n",
        ".withColumn('MaxClassSize',get_json_object(col('json'), '$.MaxClassSize')) \\\r\n",
        ".select('RefId','SchoolYear',\t'LocalId',\t'ShortName',\t'LongName',\t'GroupType',\t'Set',\t'Block',\t'CurriculumLevel',\t'SchoolInfoRefId',\t'SchoolLocalId',\t'SchoolCourseInfoRefId',\t'SchoolCourseLocalId',\t'TimeTableSubjectRefId',\t'TimeTableSubjectLocalId',\t'KeyLearningArea',\t'Semester',\t'MinClassSize',\t'MaxClassSize'\r\n",
        ")  \r\n",
        "\r\n",
        "df_Out.write.mode(\"overwrite\").saveAsTable(\"dm_teachinggroup\")\r\n"
      ],
      "outputs": [
        {
          "output_type": "display_data",
          "data": {
            "application/vnd.livy.statement-meta+json": {
              "spark_pool": "adsdevsynspads",
              "session_id": "9",
              "statement_id": 48,
              "state": "finished",
              "livy_statement_state": "available",
              "queued_time": "2022-07-19T11:32:17.2384269Z",
              "session_start_time": null,
              "execution_start_time": "2022-07-19T11:32:17.5599059Z",
              "execution_finish_time": "2022-07-19T11:32:21.5777595Z",
              "spark_jobs": null
            },
            "text/plain": "StatementMeta(adsdevsynspads, 9, 48, Finished, Available)"
          },
          "metadata": {}
        }
      ],
      "execution_count": 47,
      "metadata": {
        "jupyter": {
          "source_hidden": false,
          "outputs_hidden": false
        },
        "nteract": {
          "transient": {
            "deleting": false
          }
        }
      }
    },
    {
      "cell_type": "markdown",
      "source": [
        "# Create Teaching Group To Student Mapping"
      ],
      "metadata": {
        "nteract": {
          "transient": {
            "deleting": false
          }
        }
      }
    },
    {
      "cell_type": "code",
      "source": [
        "\r\n",
        "json_schema = spark.read.json(df_RawWJ.withColumn('SLS',get_json_object(col('json'), '$.StudentList')).select(\"SLS\").rdd.map(lambda x: x[0])).schema\r\n",
        "\r\n",
        "\r\n",
        "df_TeachingGroupToStudentMap = df_RawWJ \\\r\n",
        ".withColumn('StudentList1',from_json(get_json_object(col('json'), '$.StudentList'),json_schema)) \\\r\n",
        ".select('RefId',\\\r\n",
        "    explode('StudentList1.TeachingGroupStudent').alias(\"Student\"), \\\r\n",
        ")\r\n",
        "\r\n",
        "df_TeachingGroupToStudentMap = \\\r\n",
        "    df_TeachingGroupToStudentMap \\\r\n",
        "        .withColumn('StudentGivenName',col('Student.Name.GivenName')) \\\r\n",
        "        .withColumn('StudentFamilyName',col('Student.Name.FamilyName')) \\\r\n",
        "        .withColumn('StudentNameType',col('Student.Name.Type')) \\\r\n",
        "        .withColumn('StudentPersonalRefId',col('Student.StudentPersonalRefId')) \\\r\n",
        "        .withColumn('StudentLocalId',col('Student.StudentLocalId')) \\\r\n",
        "        .select('RefId','StudentGivenName','StudentFamilyName','StudentNameType','StudentLocalId','StudentPersonalRefId')\r\n",
        "\r\n",
        "df_TeachingGroupToStudentMap.write.mode(\"overwrite\").saveAsTable(\"dm_TeachingGroupToStudentMap\")"
      ],
      "outputs": [
        {
          "output_type": "display_data",
          "data": {
            "application/vnd.livy.statement-meta+json": {
              "spark_pool": "adsdevsynspads",
              "session_id": "9",
              "statement_id": 55,
              "state": "finished",
              "livy_statement_state": "available",
              "queued_time": "2022-07-19T11:42:32.5566001Z",
              "session_start_time": null,
              "execution_start_time": "2022-07-19T11:42:32.6562777Z",
              "execution_finish_time": "2022-07-19T11:42:36.6065423Z",
              "spark_jobs": null
            },
            "text/plain": "StatementMeta(adsdevsynspads, 9, 55, Finished, Available)"
          },
          "metadata": {}
        }
      ],
      "execution_count": 54,
      "metadata": {
        "jupyter": {
          "source_hidden": false,
          "outputs_hidden": false
        },
        "nteract": {
          "transient": {
            "deleting": false
          }
        }
      }
    },
    {
      "cell_type": "markdown",
      "source": [
        "# Create Teaching Group To Teacher"
      ],
      "metadata": {
        "nteract": {
          "transient": {
            "deleting": false
          }
        }
      }
    },
    {
      "cell_type": "code",
      "source": [
        "\r\n",
        "json_schema = spark.read.json(df_RawWJ.withColumn('SLS',get_json_object(col('json'), '$.TeacherList')).select(\"SLS\").rdd.map(lambda x: x[0])).schema\r\n",
        "\r\n",
        "\r\n",
        "df_TeachingGroupToStudentMap = df_RawWJ \\\r\n",
        ".withColumn('TeacherList1',from_json(get_json_object(col('json'), '$.TeacherList'),json_schema)) \\\r\n",
        ".select('RefId',\\\r\n",
        "    explode('TeacherList1.TeachingGroupTeacher').alias(\"Teacher\"), \\\r\n",
        ")\r\n",
        "\r\n",
        "df_TeachingGroupToStudentMap = \\\r\n",
        "    df_TeachingGroupToStudentMap \\\r\n",
        "        .withColumn('TeacherGivenName',col('Teacher.Name.GivenName')) \\\r\n",
        "        .withColumn('TeacherFamilyName',col('Teacher.Name.FamilyName')) \\\r\n",
        "        .withColumn('TeacherNameType',col('Teacher.Name.Type')) \\\r\n",
        "        .withColumn('TeacherPersonalRefId',col('Teacher.StaffPersonalRefId')) \\\r\n",
        "        .withColumn('TeacherLocalId',col('Teacher.StaffLocalId')) \\\r\n",
        "        .withColumn('TeacherAssociation',col('Teacher.Association')) \\\r\n",
        "        .select('RefId','TeacherGivenName','TeacherFamilyName','TeacherNameType','TeacherLocalId','TeacherPersonalRefId', 'TeacherAssociation')\r\n",
        "\r\n",
        "df_TeachingGroupToStudentMap.write.mode(\"overwrite\").saveAsTable(\"dm_TeachingGroupToTeacherMap\")"
      ],
      "outputs": [
        {
          "output_type": "display_data",
          "data": {
            "application/vnd.livy.statement-meta+json": {
              "spark_pool": "adsdevsynspads",
              "session_id": "9",
              "statement_id": 54,
              "state": "finished",
              "livy_statement_state": "available",
              "queued_time": "2022-07-19T11:42:17.4196407Z",
              "session_start_time": null,
              "execution_start_time": "2022-07-19T11:42:17.7235441Z",
              "execution_finish_time": "2022-07-19T11:42:21.6646523Z",
              "spark_jobs": null
            },
            "text/plain": "StatementMeta(adsdevsynspads, 9, 54, Finished, Available)"
          },
          "metadata": {}
        }
      ],
      "execution_count": 53,
      "metadata": {
        "jupyter": {
          "source_hidden": false,
          "outputs_hidden": false
        },
        "nteract": {
          "transient": {
            "deleting": false
          }
        }
      }
    },
    {
      "cell_type": "markdown",
      "source": [
        "# Teaching Group to Period Mapping"
      ],
      "metadata": {
        "nteract": {
          "transient": {
            "deleting": false
          }
        }
      }
    },
    {
      "cell_type": "code",
      "source": [
        "\r\n",
        "json_schema = spark.read.json(df_RawWJ.withColumn('SLS',get_json_object(col('json'), '$.TeachingGroupPeriodList')).select(\"SLS\").rdd.map(lambda x: x[0])).schema\r\n",
        "\r\n",
        "\r\n",
        "df_TeachingGroupPeriodMap = df_RawWJ \\\r\n",
        ".withColumn('TeachingGroupPeriod1',from_json(get_json_object(col('json'), '$.TeachingGroupPeriodList'),json_schema)) \\\r\n",
        ".select('RefId',\\\r\n",
        "    explode('TeachingGroupPeriod1.TeachingGroupPeriod').alias(\"TeachingGroupPeriod\"), \\\r\n",
        ")\r\n",
        "\r\n",
        "df_TeachingGroupPeriodMap = \\\r\n",
        "    df_TeachingGroupPeriodMap \\\r\n",
        "        .withColumn('TeachingGroupPeriodDayId',col('TeachingGroupPeriod.DayId')) \\\r\n",
        "        .withColumn('TeachingGroupPeriodPeriodId',col('TeachingGroupPeriod.PeriodId')) \\\r\n",
        "        .select('RefId','TeachingGroupPeriodDayId','TeachingGroupPeriodPeriodId')\r\n",
        "\r\n",
        "df_TeachingGroupPeriodMap.write.mode(\"overwrite\").saveAsTable(\"dm_TeachingGroupPeriodMap\")"
      ],
      "outputs": [
        {
          "output_type": "display_data",
          "data": {
            "application/vnd.livy.statement-meta+json": {
              "spark_pool": "adsdevsynspads",
              "session_id": "9",
              "statement_id": 56,
              "state": "finished",
              "livy_statement_state": "available",
              "queued_time": "2022-07-19T11:47:47.6790432Z",
              "session_start_time": null,
              "execution_start_time": "2022-07-19T11:47:48.0874056Z",
              "execution_finish_time": "2022-07-19T11:47:50.8601268Z",
              "spark_jobs": null
            },
            "text/plain": "StatementMeta(adsdevsynspads, 9, 56, Finished, Available)"
          },
          "metadata": {}
        }
      ],
      "execution_count": 55,
      "metadata": {
        "jupyter": {
          "source_hidden": false,
          "outputs_hidden": false
        },
        "nteract": {
          "transient": {
            "deleting": false
          }
        }
      }
    }
  ],
  "metadata": {
    "language_info": {
      "name": "python"
    },
    "kernelspec": {
      "name": "synapse_pyspark",
      "language": "Python",
      "display_name": "Synapse PySpark"
    },
    "kernel_info": {
      "name": "synapse_pyspark"
    },
    "save_output": true,
    "synapse_widget": {
      "version": "0.1",
      "state": {}
    }
  },
  "nbformat": 4,
  "nbformat_minor": 2
}