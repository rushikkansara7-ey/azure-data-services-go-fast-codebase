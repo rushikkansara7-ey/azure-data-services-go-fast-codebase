{
  "cells": [
    {
      "cell_type": "code",
      "source": [
        "StorageAccountName = \"adsdevdlsadswe7yadsl\"\r\n",
        "StorageAccountContainer = \"datalakeraw\"\r\n",
        "StorageAccountFolder = \"/samples/sif/\"\r\n",
        "SifDbName = \"sif\""
      ],
      "outputs": [
        {
          "output_type": "display_data",
          "data": {
            "application/vnd.livy.statement-meta+json": {
              "spark_pool": "adsdevsynspads",
              "session_id": 2,
              "statement_id": 8,
              "state": "finished",
              "livy_statement_state": "available",
              "queued_time": "2022-07-08T07:10:09.6050747Z",
              "session_start_time": null,
              "execution_start_time": "2022-07-08T07:10:09.7162124Z",
              "execution_finish_time": "2022-07-08T07:10:09.904397Z"
            },
            "text/plain": "StatementMeta(adsdevsynspads, 2, 8, Finished, Available)"
          },
          "metadata": {}
        }
      ],
      "execution_count": 8,
      "metadata": {
        "jupyter": {
          "source_hidden": false,
          "outputs_hidden": false
        },
        "nteract": {
          "transient": {
            "deleting": false
          }
        },
        "tags": [
          "parameters"
        ]
      }
    },
    {
      "cell_type": "markdown",
      "source": [
        "# Persist Codesets"
      ],
      "metadata": {
        "nteract": {
          "transient": {
            "deleting": false
          }
        }
      }
    },
    {
      "cell_type": "code",
      "source": [
        "TaskObject = \" \\\r\n",
        "{   \\\"TaskInstanceId\\\":53, \\\r\n",
        "    \\\"TaskMasterId\\\":1, \\\r\n",
        "    \\\"TaskStatus\\\":\\\"InProgress\\\",\\\r\n",
        "    \\\"TaskType\\\":\\\"Execute Synapse Notebook\\\",\\\r\n",
        "    \\\"Enabled\\\":1,\\\"ExecutionUid\\\": \\\r\n",
        "    \\\"dc872650-b992-4cae-9ae2-c714c95563ee\\\", \\\r\n",
        "    \\\"NumberOfRetries\\\":2, \\\r\n",
        "    \\\"DegreeOfCopyParallelism\\\":1, \\\r\n",
        "    \\\"KeyVaultBaseUrl\\\":\\\"https://ads-dev-kv-ads-we7y.vault.azure.net/\\\", \\\r\n",
        "    \\\"ScheduleMasterId\\\":\\\"-4\\\", \\\r\n",
        "    \\\"TaskGroupConcurrency\\\":\\\"10\\\", \\\r\n",
        "    \\\"TaskGroupPriority\\\":0, \\\r\n",
        "    \\\"TaskExecutionType\\\":\\\"ADF\\\", \\\r\n",
        "    \\\"Source\\\": \\\r\n",
        "        {\\\"System\\\": \\\r\n",
        "            {\\\"SystemId\\\":-4, \\\r\n",
        "            \\\"SystemServer\\\":\\\"https://{StorageAccountName}.dfs.core.windows.net\\\", \\\r\n",
        "            \\\"AuthenticationType\\\":\\\"MSI\\\", \\\r\n",
        "            \\\"Type\\\":\\\"ADLS\\\", \\\r\n",
        "            \\\"Username\\\":null, \\\r\n",
        "            \\\"Container\\\":\\\"{StorageAccountContainer}\\\"}, \\\r\n",
        "        \\\"Instance\\\":{ \\\r\n",
        "            \\\"SourceRelativePath\\\":\\\"/samples/sif/SifOpenApi/\\\", \\\r\n",
        "            \\\"TargetRelativePath\\\":\\\"/samples/sif/StudentPersonal/\\\" \\\r\n",
        "            }, \\\r\n",
        "        \\\"DataFileName\\\":\\\"jsonSchemaCreate_AU.json\\\", \\\r\n",
        "        \\\"RelativePath\\\":\\\"{StorageAccountFolder}SifOpenApi/\\\", \\\r\n",
        "        \\\"SchemaFileName\\\":\\\"\\\", \\\r\n",
        "        \\\"Type\\\":\\\"Notebook-Optional\\\", \\\r\n",
        "        \\\"WriteSchemaToPurview\\\":\\\"Disabled\\\"}, \\\r\n",
        "    \\\"Target\\\":{ \\\r\n",
        "        \\\"System\\\":{ \\\r\n",
        "            \\\"SystemId\\\":-4, \\\r\n",
        "            \\\"SystemServer\\\":\\\"https://{StorageAccountName}.dfs.core.windows.net\\\", \\\r\n",
        "            \\\"AuthenticationType\\\":\\\"MSI\\\", \\\r\n",
        "            \\\"Type\\\":\\\"ADLS\\\", \\\r\n",
        "            \\\"Workspace\\\" : \\\"adsdevsynwadswe7y\\\", \\\r\n",
        "            \\\"Database\\\":\\\"adsdevsyndpads\\\" \\\r\n",
        "        }, \\\r\n",
        "        \\\"Instance\\\":{ \\\r\n",
        "            \\\"SourceRelativePath\\\":\\\"{StorageAccountFolder}\\\", \\\r\n",
        "            \\\"TargetRelativePath\\\":\\\"{StorageAccountFolder}StudentPersonal/\\\" \\\r\n",
        "        }, \\\r\n",
        "        \\\"DataFileName\\\":\\\"jsonSchemaCreate_AU.json\\\", \\\r\n",
        "        \\\"RelativePath\\\":\\\"{StorageAccountFolder}SifOpenApi/\\\", \\\r\n",
        "        \\\"SchemaFileName\\\":\\\"\\\", \\\r\n",
        "        \\\"Type\\\":\\\"Notebook-Optional\\\", \\\r\n",
        "        \\\"WriteSchemaToPurview\\\":\\\"Disabled\\\" \\\r\n",
        "        }, \\\r\n",
        "    \\\"TMOptionals\\\":{ \\\r\n",
        "        \\\"CustomDefinitions\\\":\\\"\\\", \\\r\n",
        "        \\\"ExecuteNotebook\\\":\\\"SIFLoadCodeSets\\\", \\\r\n",
        "        \\\"Purview\\\":\\\"Disabled\\\", \\\r\n",
        "        \\\"QualifiedIDAssociation\\\":\\\"TaskMasterId\\\", \\\r\n",
        "        \\\"UseNotebookActivity\\\":\\\"Enabled\\\" \\\r\n",
        "        } \\\r\n",
        "    }\" \r\n",
        "\r\n",
        "OutputDict = {}\r\n",
        "TaskObject = TaskObject.replace(\"{StorageAccountFolder}\",StorageAccountFolder) \\\r\n",
        "    .replace(\"{StorageAccountName}\",StorageAccountName) \\\r\n",
        "    .replace(\"{StorageAccountContainer}\",StorageAccountContainer) \r\n",
        "OutputDict['TaskObject'] = TaskObject\r\n",
        "print(OutputDict)"
      ],
      "outputs": [
        {
          "output_type": "display_data",
          "data": {
            "application/vnd.livy.statement-meta+json": {
              "spark_pool": "adsdevsynspads",
              "session_id": 2,
              "statement_id": 14,
              "state": "finished",
              "livy_statement_state": "available",
              "queued_time": "2022-07-08T07:14:53.8287041Z",
              "session_start_time": null,
              "execution_start_time": "2022-07-08T07:14:54.5907051Z",
              "execution_finish_time": "2022-07-08T07:14:54.7382584Z"
            },
            "text/plain": "StatementMeta(adsdevsynspads, 2, 14, Finished, Available)"
          },
          "metadata": {}
        },
        {
          "output_type": "stream",
          "name": "stdout",
          "text": [
            "{'TaskObject': ' {   \"TaskInstanceId\":53,     \"TaskMasterId\":1,     \"TaskStatus\":\"InProgress\",    \"TaskType\":\"Execute Synapse Notebook\",    \"Enabled\":1,\"ExecutionUid\":     \"dc872650-b992-4cae-9ae2-c714c95563ee\",     \"NumberOfRetries\":2,     \"DegreeOfCopyParallelism\":1,     \"KeyVaultBaseUrl\":\"https://ads-dev-kv-ads-we7y.vault.azure.net/\",     \"ScheduleMasterId\":\"-4\",     \"TaskGroupConcurrency\":\"10\",     \"TaskGroupPriority\":0,     \"TaskExecutionType\":\"ADF\",     \"Source\":         {\"System\":             {\"SystemId\":-4,             \"SystemServer\":\"https://adsdevdlsadswe7yadsl.dfs.core.windows.net\",             \"AuthenticationType\":\"MSI\",             \"Type\":\"ADLS\",             \"Username\":null,             \"Container\":\"datalakeraw\"},         \"Instance\":{             \"SourceRelativePath\":\"/samples/sif/SifOpenApi/\",             \"TargetRelativePath\":\"/samples/sif/StudentPersonal/\"             },         \"DataFileName\":\"jsonSchemaCreate_AU.json\",         \"RelativePath\":\"/samples/sif/SifOpenApi/\",         \"SchemaFileName\":\"\",         \"Type\":\"Notebook-Optional\",         \"WriteSchemaToPurview\":\"Disabled\"},     \"Target\":{         \"System\":{             \"SystemId\":-4,             \"SystemServer\":\"https://adsdevdlsadswe7yadsl.dfs.core.windows.net\",             \"AuthenticationType\":\"MSI\",             \"Type\":\"ADLS\",             \"Workspace\" : \"adsdevsynwadswe7y\",             \"Database\":\"adsdevsyndpads\"         },         \"Instance\":{             \"SourceRelativePath\":\"/samples/sif/\",             \"TargetRelativePath\":\"/samples/sif/StudentPersonal/\"         },         \"DataFileName\":\"jsonSchemaCreate_AU.json\",         \"RelativePath\":\"/samples/sif/SifOpenApi/\",         \"SchemaFileName\":\"\",         \"Type\":\"Notebook-Optional\",         \"WriteSchemaToPurview\":\"Disabled\"         },     \"TMOptionals\":{         \"CustomDefinitions\":\"\",         \"ExecuteNotebook\":\"SIFLoadCodeSets\",         \"Purview\":\"Disabled\",         \"QualifiedIDAssociation\":\"TaskMasterId\",         \"UseNotebookActivity\":\"Enabled\"         }     }'}\n"
          ]
        }
      ],
      "execution_count": 14,
      "metadata": {
        "jupyter": {
          "source_hidden": false,
          "outputs_hidden": false
        },
        "nteract": {
          "transient": {
            "deleting": false
          }
        }
      }
    },
    {
      "cell_type": "code",
      "source": [
        "mssparkutils.notebook.run(\"FrameworkNotebooks/sif/SIFLoadCodeSets\", 900,OutputDict)"
      ],
      "outputs": [
        {
          "output_type": "display_data",
          "data": {
            "application/vnd.livy.statement-meta+json": {
              "spark_pool": "adsdevsynspads",
              "session_id": 2,
              "statement_id": 15,
              "state": "finished",
              "livy_statement_state": "available",
              "queued_time": "2022-07-08T07:14:57.9783829Z",
              "session_start_time": null,
              "execution_start_time": "2022-07-08T07:14:58.1444656Z",
              "execution_finish_time": "2022-07-08T07:18:09.1412246Z"
            },
            "text/plain": "StatementMeta(adsdevsynspads, 2, 15, Finished, Available)"
          },
          "metadata": {}
        },
        {
          "output_type": "display_data",
          "data": {
            "application/vnd.synapse.mssparkutilsrun-result+json": {
              "run_id": "23d40986-ca65-4ef8-bb0e-5d7d3eec2a46",
              "in_pipeline": false,
              "notebook_name": "SIFLoadCodeSets",
              "snapshot_path": "/runNotebookApi/versions/1/run/23d40986-ca65-4ef8-bb0e-5d7d3eec2a46/snapshot",
              "error": null,
              "session_id": "2",
              "spark_pool": "adsdevsynspads"
            }
          },
          "metadata": {}
        },
        {
          "output_type": "execute_result",
          "execution_count": 33,
          "data": {
            "text/plain": "''"
          },
          "metadata": {}
        }
      ],
      "execution_count": 15,
      "metadata": {
        "jupyter": {
          "source_hidden": false,
          "outputs_hidden": false
        },
        "nteract": {
          "transient": {
            "deleting": false
          }
        }
      }
    },
    {
      "cell_type": "markdown",
      "source": [
        "# Load Raw SIF Entities"
      ],
      "metadata": {
        "nteract": {
          "transient": {
            "deleting": false
          }
        }
      }
    },
    {
      "cell_type": "markdown",
      "source": [
        "## Step One: Register TaskObject Template"
      ],
      "metadata": {
        "nteract": {
          "transient": {
            "deleting": false
          }
        }
      }
    },
    {
      "cell_type": "code",
      "source": [
        "TaskObject = \" \\\r\n",
        "{\\\r\n",
        "    \\\"TaskInstanceId\\\": 28,\\\r\n",
        "    \\\"TaskMasterId\\\": 2,\\\r\n",
        "    \\\"TaskStatus\\\": \\\"InProgress\\\",\\\r\n",
        "    \\\"TaskType\\\": \\\"Execute Synapse Notebook\\\",\\\r\n",
        "    \\\"Enabled\\\": 1,\\\r\n",
        "    \\\"ExecutionUid\\\": \\\"f3156876-086d-4915-b1b1-0b445810142c\\\",\\\r\n",
        "    \\\"NumberOfRetries\\\": 0,\\\r\n",
        "    \\\"DegreeOfCopyParallelism\\\": 1,\\\r\n",
        "    \\\"KeyVaultBaseUrl\\\": \\\"https://ads-dev-kv-ads-we7y.vault.azure.net/\\\",\\\r\n",
        "    \\\"ScheduleMasterId\\\": \\\"-4\\\",\\\r\n",
        "    \\\"TaskGroupConcurrency\\\": \\\"10\\\",\\\r\n",
        "    \\\"TaskGroupPriority\\\": 0,\\\r\n",
        "    \\\"TaskExecutionType\\\": \\\"ADF\\\",\\\r\n",
        "    \\\"ExecutionEngine\\\": {\\\r\n",
        "        \\\"EngineId\\\": -2,\\\r\n",
        "        \\\"EngineName\\\": \\\"adsdevsynwadswe7y\\\",\\\r\n",
        "        \\\"SystemType\\\": \\\"Synapse\\\",\\\r\n",
        "        \\\"ResourceGroup\\\": \\\"gfd1\\\",\\\r\n",
        "        \\\"SubscriptionId\\\": \\\"035a1364-f00d-48e2-b582-4fe125905ee3\\\",\\\r\n",
        "        \\\"ADFPipeline\\\": \\\"GPL_SparkNotebookExecution_Azure\\\",\\\r\n",
        "        \\\"TaskDatafactoryIR\\\": \\\"Azure\\\",\\\r\n",
        "        \\\"JsonProperties\\\": {\\\r\n",
        "            \\\"endpoint\\\": \\\"https://adsdevsynwadswe7y.dev.azuresynapse.net\\\",\\\r\n",
        "            \\\"DeltaProcessingNotebook\\\": \\\"DeltaProcessingNotebook\\\",\\\r\n",
        "            \\\"PurviewAccountName\\\": \\\"adsdevpuradswe7y\\\",\\\r\n",
        "            \\\"DefaultSparkPoolName\\\": \\\"adsdevsynspads\\\"\\\r\n",
        "        }\\\r\n",
        "    },\\\r\n",
        "    \\\"Source\\\": {\\\r\n",
        "        \\\"System\\\": {\\\r\n",
        "            \\\"SystemId\\\": -4,\\\r\n",
        "            \\\"SystemServer\\\": \\\"https://{StorageAccountName}.dfs.core.windows.net\\\",\\\r\n",
        "            \\\"AuthenticationType\\\": \\\"MSI\\\",\\\r\n",
        "            \\\"Type\\\": \\\"ADLS\\\",\\\r\n",
        "            \\\"Username\\\": null,\\\r\n",
        "            \\\"Container\\\": \\\"{StorageAccountContainer}\\\"\\\r\n",
        "        },\\\r\n",
        "        \\\"Instance\\\": {\\\r\n",
        "            \\\"SourceRelativePath\\\": \\\"/samples/sif/\\\" \\\r\n",
        "        },\\\r\n",
        "        \\\"DataFileName\\\": \\\"{Entity}.json\\\",\\\r\n",
        "        \\\"RelativePath\\\": \\\"{StorageAccountFolder}\\\",\\\r\n",
        "        \\\"SchemaFileName\\\": \\\"\\\",\\\r\n",
        "        \\\"Type\\\": \\\"Notebook-Optional\\\",\\\r\n",
        "        \\\"WriteSchemaToPurview\\\": \\\"Disabled\\\"\\\r\n",
        "    },\\\r\n",
        "    \\\"Target\\\": {\\\r\n",
        "        \\\"System\\\": {\\\r\n",
        "            \\\"SystemId\\\": -4,\\\r\n",
        "            \\\"SystemServer\\\": \\\"https://{StorageAccountName}.dfs.core.windows.net\\\",\\\r\n",
        "            \\\"AuthenticationType\\\": \\\"MSI\\\",\\\r\n",
        "            \\\"Type\\\": \\\"ADLS\\\",\\\r\n",
        "            \\\"Username\\\": null,\\\r\n",
        "            \\\"Container\\\": \\\"{StorageAccountContainer}\\\"\\\r\n",
        "        },\\\r\n",
        "        \\\"Instance\\\": {\\\r\n",
        "            \\\"SourceRelativePath\\\": \\\"{StorageAccountFolder}\\\", \\\r\n",
        "            \\\"TargetRelativePath\\\": \\\"{StorageAccountFolder}delta/{Entity}/\\\"\\\r\n",
        "        },\\\r\n",
        "        \\\"DataFileName\\\": \\\"{Entity}.parquet\\\",\\\r\n",
        "        \\\"RelativePath\\\": \\\"{StorageAccountFolder}delta/{Entity}/\\\",\\\r\n",
        "        \\\"SchemaFileName\\\": \\\"{Entity}.json\\\",\\\r\n",
        "        \\\"Type\\\": \\\"Notebook-Optional\\\",\\\r\n",
        "        \\\"WriteSchemaToPurview\\\": \\\"Disabled\\\"\\\r\n",
        "    },\\\r\n",
        "    \\\"TMOptionals\\\": {\\\r\n",
        "        \\\"CustomDefinitions\\\": \\\"SparkDatabaseName=sif,,EntityPrimaryKey={EntityPrimaryKey}\\\",\\\r\n",
        "        \\\"ExecuteNotebook\\\": \\\"SIFParameterizedJson\\\",\\\r\n",
        "        \\\"Purview\\\": \\\"Disabled\\\",\\\r\n",
        "        \\\"QualifiedIDAssociation\\\": \\\"TaskMasterId\\\",\\\r\n",
        "        \\\"UseNotebookActivity\\\": \\\"Enabled\\\"\\\r\n",
        "    }\\\r\n",
        "}\" "
      ],
      "outputs": [],
      "execution_count": null,
      "metadata": {
        "jupyter": {
          "source_hidden": false,
          "outputs_hidden": false
        },
        "nteract": {
          "transient": {
            "deleting": false
          }
        }
      }
    },
    {
      "cell_type": "markdown",
      "source": [
        "## Step Two: Declare Function to Run Notebook"
      ],
      "metadata": {
        "nteract": {
          "transient": {
            "deleting": false
          }
        }
      }
    },
    {
      "cell_type": "code",
      "source": [
        "def RunDimNoteBook(StorageAccountName, Entity):\r\n",
        "    OutputDict = {} \r\n",
        "    EntityPrimaryKey = \"RefId\"\r\n",
        "    if(Entity==\"CalendarDate\"):\r\n",
        "       EntityPrimaryKey = \"CalendarDateRefId\"\r\n",
        "    if(Entity==\"StudentContactRelationship\"):\r\n",
        "       EntityPrimaryKey = \"StudentContactRelationshipRefId\" \r\n",
        "    TaskObject = TaskObject.replace(\"{StorageAccountFolder}\",StorageAccountFolder) \\\r\n",
        "        .replace(\"{StorageAccountName}\",StorageAccountName) \\\r\n",
        "        .replace(\"{StorageAccountContainer}\",StorageAccountContainer) \r\n",
        "        .replace(\"{Entity}\", Entity)\r\n",
        "        .replace(\"{EntityPrimaryKey}\", EntityPrimaryKey)\r\n",
        "    OutputDict['TaskObject'] = TaskObject\r\n",
        "    mssparkutils.notebook.run(\"FrameworkNotebooks/sif/SIFParameterizedJson\",900, OutputDict)\r\n",
        "\r\n"
      ],
      "outputs": [
        {
          "output_type": "display_data",
          "data": {
            "application/vnd.livy.statement-meta+json": {
              "spark_pool": "adsdevsynspads",
              "session_id": 2,
              "statement_id": 12,
              "state": "finished",
              "livy_statement_state": "available",
              "queued_time": "2022-07-08T07:12:55.7116348Z",
              "session_start_time": null,
              "execution_start_time": "2022-07-08T07:12:55.8241675Z",
              "execution_finish_time": "2022-07-08T07:12:56.0138317Z"
            },
            "text/plain": "StatementMeta(adsdevsynspads, 2, 12, Finished, Available)"
          },
          "metadata": {}
        }
      ],
      "execution_count": 12,
      "metadata": {
        "jupyter": {
          "source_hidden": false,
          "outputs_hidden": false
        },
        "nteract": {
          "transient": {
            "deleting": false
          }
        }
      }
    },
    {
      "cell_type": "markdown",
      "source": [
        "## Step Three: Generate Task Object and Execute Delta Lake Load for Each Raw SIF Entity"
      ],
      "metadata": {
        "nteract": {
          "transient": {
            "deleting": false
          }
        }
      }
    },
    {
      "cell_type": "code",
      "source": [
        "entities = [\"CalendarDate\" \\\r\n",
        ",\"GradingAssignment\" \\\r\n",
        ",\"GradingAssignmentScore\" \\\r\n",
        ",\"LearningStandardItem\" \\\r\n",
        ",\"MarkValueInfo\" \\\r\n",
        ",\"SchoolInfo2\" \\\r\n",
        ",\"SectionInfo\" \\\r\n",
        ",\"StaffAssignment\" \\\r\n",
        ",\"StaffPersonal\" \\\r\n",
        ",\"StudentContactPersonal\" \\\r\n",
        ",\"StudentContactRelationship\" \\\r\n",
        ",\"StudentDailyAttendance\" \\\r\n",
        ",\"StudentGrade\" \\\r\n",
        ",\"StudentPersonal\" \\\r\n",
        ",\"StudentSchoolEnrollment\" \\\r\n",
        ",\"StudentScoreJudgementAgainstStandard\" \\\r\n",
        ",\"StudentSectionEnrollment\" \\\r\n",
        ",\"TeachingGroup\" \\\r\n",
        ",\"TermInfo\" \\\r\n",
        ",\"TermInfo2\" \\\r\n",
        ",\"TermInfo3\" \\\r\n",
        ",\"schoolinfo\" \\\r\n",
        "]\r\n",
        "\r\n",
        "\r\n",
        "from multiprocessing.pool import ThreadPool\r\n",
        "pool = ThreadPool(5)\r\n",
        "pool.map(lambda e: RunDimNoteBook(StorageAccountName, e),entities)"
      ],
      "outputs": [
        {
          "output_type": "display_data",
          "data": {
            "application/vnd.livy.statement-meta+json": {
              "spark_pool": "adsdevsynspads",
              "session_id": 5,
              "statement_id": 5,
              "state": "finished",
              "livy_statement_state": "available",
              "queued_time": "2022-07-06T11:06:58.1092256Z",
              "session_start_time": null,
              "execution_start_time": "2022-07-06T11:06:58.2080263Z",
              "execution_finish_time": "2022-07-06T11:12:57.106434Z"
            },
            "text/plain": "StatementMeta(adsdevsynspads, 5, 5, Finished, Available)"
          },
          "metadata": {}
        },
        {
          "output_type": "display_data",
          "data": {
            "application/vnd.synapse.mssparkutilsrun-result+json": {
              "run_id": "25b81e36-998c-40c4-9463-8d75d0cf9679",
              "in_pipeline": false,
              "notebook_name": "SIFParameterizedJson",
              "snapshot_path": "/runNotebookApi/versions/1/run/25b81e36-998c-40c4-9463-8d75d0cf9679/snapshot",
              "error": null,
              "session_id": "5",
              "spark_pool": "adsdevsynspads"
            }
          },
          "metadata": {}
        },
        {
          "output_type": "display_data",
          "data": {
            "application/vnd.synapse.mssparkutilsrun-result+json": {
              "run_id": "dc5c62bd-5528-44ca-88fa-5c6bc0b38103",
              "in_pipeline": false,
              "notebook_name": "SIFParameterizedJson",
              "snapshot_path": "/runNotebookApi/versions/1/run/dc5c62bd-5528-44ca-88fa-5c6bc0b38103/snapshot",
              "error": null,
              "session_id": "5",
              "spark_pool": "adsdevsynspads"
            }
          },
          "metadata": {}
        },
        {
          "output_type": "display_data",
          "data": {
            "application/vnd.synapse.mssparkutilsrun-result+json": {
              "run_id": "4f112c13-9eb9-4627-845c-c17415af6d85",
              "in_pipeline": false,
              "notebook_name": "SIFParameterizedJson",
              "snapshot_path": "/runNotebookApi/versions/1/run/4f112c13-9eb9-4627-845c-c17415af6d85/snapshot",
              "error": null,
              "session_id": "5",
              "spark_pool": "adsdevsynspads"
            }
          },
          "metadata": {}
        },
        {
          "output_type": "display_data",
          "data": {
            "application/vnd.synapse.mssparkutilsrun-result+json": {
              "run_id": "2a444cb2-1849-44fe-b96a-4c3c9328bdc0",
              "in_pipeline": false,
              "notebook_name": "SIFParameterizedJson",
              "snapshot_path": "/runNotebookApi/versions/1/run/2a444cb2-1849-44fe-b96a-4c3c9328bdc0/snapshot",
              "error": null,
              "session_id": "5",
              "spark_pool": "adsdevsynspads"
            }
          },
          "metadata": {}
        },
        {
          "output_type": "display_data",
          "data": {
            "application/vnd.synapse.mssparkutilsrun-result+json": {
              "run_id": "3a3e3dcd-bb69-4ae6-91a1-5137d6d3103c",
              "in_pipeline": false,
              "notebook_name": "SIFParameterizedJson",
              "snapshot_path": "/runNotebookApi/versions/1/run/3a3e3dcd-bb69-4ae6-91a1-5137d6d3103c/snapshot",
              "error": null,
              "session_id": "5",
              "spark_pool": "adsdevsynspads"
            }
          },
          "metadata": {}
        },
        {
          "output_type": "display_data",
          "data": {
            "application/vnd.synapse.mssparkutilsrun-result+json": {
              "run_id": "8344545e-1b6c-4cc0-9ff4-9ab855d1fdfa",
              "in_pipeline": false,
              "notebook_name": "SIFParameterizedJson",
              "snapshot_path": "/runNotebookApi/versions/1/run/8344545e-1b6c-4cc0-9ff4-9ab855d1fdfa/snapshot",
              "error": null,
              "session_id": "5",
              "spark_pool": "adsdevsynspads"
            }
          },
          "metadata": {}
        },
        {
          "output_type": "display_data",
          "data": {
            "application/vnd.synapse.mssparkutilsrun-result+json": {
              "run_id": "983469aa-ef86-42b7-b115-7fa794edf289",
              "in_pipeline": false,
              "notebook_name": "SIFParameterizedJson",
              "snapshot_path": "/runNotebookApi/versions/1/run/983469aa-ef86-42b7-b115-7fa794edf289/snapshot",
              "error": null,
              "session_id": "5",
              "spark_pool": "adsdevsynspads"
            }
          },
          "metadata": {}
        },
        {
          "output_type": "display_data",
          "data": {
            "application/vnd.synapse.mssparkutilsrun-result+json": {
              "run_id": "9fa91fee-cf2b-4651-b5a8-33999e377cc2",
              "in_pipeline": false,
              "notebook_name": "SIFParameterizedJson",
              "snapshot_path": "/runNotebookApi/versions/1/run/9fa91fee-cf2b-4651-b5a8-33999e377cc2/snapshot",
              "error": null,
              "session_id": "5",
              "spark_pool": "adsdevsynspads"
            }
          },
          "metadata": {}
        },
        {
          "output_type": "display_data",
          "data": {
            "application/vnd.synapse.mssparkutilsrun-result+json": {
              "run_id": "1ae6cde2-fe93-4a3b-ad9f-dddca6935901",
              "in_pipeline": false,
              "notebook_name": "SIFParameterizedJson",
              "snapshot_path": "/runNotebookApi/versions/1/run/1ae6cde2-fe93-4a3b-ad9f-dddca6935901/snapshot",
              "error": null,
              "session_id": "5",
              "spark_pool": "adsdevsynspads"
            }
          },
          "metadata": {}
        },
        {
          "output_type": "display_data",
          "data": {
            "application/vnd.synapse.mssparkutilsrun-result+json": {
              "run_id": "522426dc-30b4-45b9-bd49-81a5ff4f380d",
              "in_pipeline": false,
              "notebook_name": "SIFParameterizedJson",
              "snapshot_path": "/runNotebookApi/versions/1/run/522426dc-30b4-45b9-bd49-81a5ff4f380d/snapshot",
              "error": null,
              "session_id": "5",
              "spark_pool": "adsdevsynspads"
            }
          },
          "metadata": {}
        },
        {
          "output_type": "display_data",
          "data": {
            "application/vnd.synapse.mssparkutilsrun-result+json": {
              "run_id": "07092883-8896-411a-9a2c-b242307f7001",
              "in_pipeline": false,
              "notebook_name": "SIFParameterizedJson",
              "snapshot_path": "/runNotebookApi/versions/1/run/07092883-8896-411a-9a2c-b242307f7001/snapshot",
              "error": null,
              "session_id": "5",
              "spark_pool": "adsdevsynspads"
            }
          },
          "metadata": {}
        },
        {
          "output_type": "display_data",
          "data": {
            "application/vnd.synapse.mssparkutilsrun-result+json": {
              "run_id": "4af25917-d5c3-41ef-be63-4ca68c75f2c0",
              "in_pipeline": false,
              "notebook_name": "SIFParameterizedJson",
              "snapshot_path": "/runNotebookApi/versions/1/run/4af25917-d5c3-41ef-be63-4ca68c75f2c0/snapshot",
              "error": null,
              "session_id": "5",
              "spark_pool": "adsdevsynspads"
            }
          },
          "metadata": {}
        },
        {
          "output_type": "display_data",
          "data": {
            "application/vnd.synapse.mssparkutilsrun-result+json": {
              "run_id": "526dd986-c705-4837-a6ce-f0adff7e6a30",
              "in_pipeline": false,
              "notebook_name": "SIFParameterizedJson",
              "snapshot_path": "/runNotebookApi/versions/1/run/526dd986-c705-4837-a6ce-f0adff7e6a30/snapshot",
              "error": null,
              "session_id": "5",
              "spark_pool": "adsdevsynspads"
            }
          },
          "metadata": {}
        },
        {
          "output_type": "display_data",
          "data": {
            "application/vnd.synapse.mssparkutilsrun-result+json": {
              "run_id": "86715299-2d64-4646-bcc0-1523897c54a3",
              "in_pipeline": false,
              "notebook_name": "SIFParameterizedJson",
              "snapshot_path": "/runNotebookApi/versions/1/run/86715299-2d64-4646-bcc0-1523897c54a3/snapshot",
              "error": null,
              "session_id": "5",
              "spark_pool": "adsdevsynspads"
            }
          },
          "metadata": {}
        },
        {
          "output_type": "display_data",
          "data": {
            "application/vnd.synapse.mssparkutilsrun-result+json": {
              "run_id": "b347b391-17f5-4589-aaef-169261e4f0c7",
              "in_pipeline": false,
              "notebook_name": "SIFParameterizedJson",
              "snapshot_path": "/runNotebookApi/versions/1/run/b347b391-17f5-4589-aaef-169261e4f0c7/snapshot",
              "error": null,
              "session_id": "5",
              "spark_pool": "adsdevsynspads"
            }
          },
          "metadata": {}
        },
        {
          "output_type": "display_data",
          "data": {
            "application/vnd.synapse.mssparkutilsrun-result+json": {
              "run_id": "e30c9f8c-36e2-486b-8257-ea468ec83c5e",
              "in_pipeline": false,
              "notebook_name": "SIFParameterizedJson",
              "snapshot_path": "/runNotebookApi/versions/1/run/e30c9f8c-36e2-486b-8257-ea468ec83c5e/snapshot",
              "error": null,
              "session_id": "5",
              "spark_pool": "adsdevsynspads"
            }
          },
          "metadata": {}
        },
        {
          "output_type": "display_data",
          "data": {
            "application/vnd.synapse.mssparkutilsrun-result+json": {
              "run_id": "8dfa8ef2-a9cf-4042-b312-5bc331d961ff",
              "in_pipeline": false,
              "notebook_name": "SIFParameterizedJson",
              "snapshot_path": "/runNotebookApi/versions/1/run/8dfa8ef2-a9cf-4042-b312-5bc331d961ff/snapshot",
              "error": null,
              "session_id": "5",
              "spark_pool": "adsdevsynspads"
            }
          },
          "metadata": {}
        },
        {
          "output_type": "display_data",
          "data": {
            "application/vnd.synapse.mssparkutilsrun-result+json": {
              "run_id": "57f99bef-00d9-4778-aac8-547449d56e4c",
              "in_pipeline": false,
              "notebook_name": "SIFParameterizedJson",
              "snapshot_path": "/runNotebookApi/versions/1/run/57f99bef-00d9-4778-aac8-547449d56e4c/snapshot",
              "error": null,
              "session_id": "5",
              "spark_pool": "adsdevsynspads"
            }
          },
          "metadata": {}
        },
        {
          "output_type": "display_data",
          "data": {
            "application/vnd.synapse.mssparkutilsrun-result+json": {
              "run_id": "9ec96898-c8ad-4216-803b-61fee731da1c",
              "in_pipeline": false,
              "notebook_name": "SIFParameterizedJson",
              "snapshot_path": "/runNotebookApi/versions/1/run/9ec96898-c8ad-4216-803b-61fee731da1c/snapshot",
              "error": null,
              "session_id": "5",
              "spark_pool": "adsdevsynspads"
            }
          },
          "metadata": {}
        },
        {
          "output_type": "display_data",
          "data": {
            "application/vnd.synapse.mssparkutilsrun-result+json": {
              "run_id": "7219b5b6-bae3-4860-8533-502263e156b1",
              "in_pipeline": false,
              "notebook_name": "SIFParameterizedJson",
              "snapshot_path": "/runNotebookApi/versions/1/run/7219b5b6-bae3-4860-8533-502263e156b1/snapshot",
              "error": null,
              "session_id": "5",
              "spark_pool": "adsdevsynspads"
            }
          },
          "metadata": {}
        },
        {
          "output_type": "display_data",
          "data": {
            "application/vnd.synapse.mssparkutilsrun-result+json": {
              "run_id": "8ed266bd-ca22-4fdd-a317-f2386f75fa09",
              "in_pipeline": false,
              "notebook_name": "SIFParameterizedJson",
              "snapshot_path": "/runNotebookApi/versions/1/run/8ed266bd-ca22-4fdd-a317-f2386f75fa09/snapshot",
              "error": null,
              "session_id": "5",
              "spark_pool": "adsdevsynspads"
            }
          },
          "metadata": {}
        },
        {
          "output_type": "error",
          "ename": "",
          "evalue": "",
          "traceback": []
        }
      ],
      "execution_count": null,
      "metadata": {
        "jupyter": {
          "source_hidden": false,
          "outputs_hidden": false
        },
        "nteract": {
          "transient": {
            "deleting": false
          }
        }
      }
    },
    {
      "cell_type": "markdown",
      "source": [
        "# Create SIF Dimensional Artefacts"
      ],
      "metadata": {
        "nteract": {
          "transient": {
            "deleting": false
          }
        }
      }
    },
    {
      "cell_type": "code",
      "source": [
        "import json\r\n",
        "from pyspark.sql.types import StructType,StructField, StringType,LongType\r\n",
        "from pyspark.sql.functions import concat,col\r\n",
        "\r\n",
        "\r\n",
        "#Schema = StructType([       \r\n",
        "#    StructField('Notebookname', StringType(), True)   \r\n",
        "#])\r\n",
        "\r\n",
        "dict1 = json.loads('{\"SifDbName\":\"' + SifDbName + '\"}')\r\n",
        "\r\n",
        "#Data = [[\"SIFLoadStaffPersonal\"],[\"SIFLoadStudentPersonal\"]]\r\n",
        "#df = spark.createDataFrame(data = Data, schema = [\"NotebookName\"])\r\n",
        "\r\n",
        "def fnc_calldimnotebook(NotebookName, dict1, returnType=StringType()):\r\n",
        "  NotebookName = concat('FrameworkNotebooks/sif/' + str(NotebookName))  \r\n",
        "  #mssparkutils.notebook.run(str(NotebookName), 900,dict1)\r\n",
        "  return NotebookName\r\n",
        "\r\n",
        "#spark.udf.register('fnc_calldimnotebook_udf', fnc_calldimnotebook, StringType())\r\n",
        "\r\n",
        "#df2 = df.withColumn(\"FncCall\", fnc_calldimnotebook(col('NotebookName'), dict1))\r\n",
        "#display(df2)\r\n",
        "\r\n",
        "from multiprocessing.pool import ThreadPool\r\n",
        "pool = ThreadPool(5)\r\n",
        "notebooks = ['SIFLoadDimStaffPersonal','SIFLoadDimStudentPersonal']\r\n",
        "pool.map(lambda path: mssparkutils.notebook.run(\"/FrameworkNotebooks/sif/\"+path, timeout_seconds= 600, arguments=dict1),notebooks)\r\n",
        "\r\n"
      ],
      "outputs": [
        {
          "output_type": "display_data",
          "data": {
            "application/vnd.livy.statement-meta+json": {
              "spark_pool": "adsdevsynspads",
              "session_id": 5,
              "statement_id": 7,
              "state": "finished",
              "livy_statement_state": "available",
              "queued_time": "2022-07-06T11:17:03.0427851Z",
              "session_start_time": null,
              "execution_start_time": "2022-07-06T11:17:03.1557786Z",
              "execution_finish_time": "2022-07-06T11:17:19.9348876Z"
            },
            "text/plain": "StatementMeta(adsdevsynspads, 5, 7, Finished, Available)"
          },
          "metadata": {}
        },
        {
          "output_type": "display_data",
          "data": {
            "application/vnd.synapse.mssparkutilsrun-result+json": {
              "run_id": "8eba97d2-c2e8-445e-8546-e8841e73a7a6",
              "in_pipeline": false,
              "notebook_name": "SIFLoadDimStaffPersonal",
              "snapshot_path": "/runNotebookApi/versions/1/run/8eba97d2-c2e8-445e-8546-e8841e73a7a6/snapshot",
              "error": null,
              "session_id": "5",
              "spark_pool": "adsdevsynspads"
            }
          },
          "metadata": {}
        },
        {
          "output_type": "display_data",
          "data": {
            "application/vnd.synapse.mssparkutilsrun-result+json": {
              "run_id": "3838f4cc-12e9-4d57-9652-7c34517c93f0",
              "in_pipeline": false,
              "notebook_name": "SIFLoadDimStudentPersonal",
              "snapshot_path": "/runNotebookApi/versions/1/run/3838f4cc-12e9-4d57-9652-7c34517c93f0/snapshot",
              "error": null,
              "session_id": "5",
              "spark_pool": "adsdevsynspads"
            }
          },
          "metadata": {}
        },
        {
          "output_type": "error",
          "ename": "",
          "evalue": "",
          "traceback": []
        }
      ],
      "execution_count": null,
      "metadata": {
        "jupyter": {
          "source_hidden": false,
          "outputs_hidden": false
        },
        "nteract": {
          "transient": {
            "deleting": false
          }
        },
        "collapsed": false
      }
    }
  ],
  "metadata": {
    "kernelspec": {
      "name": "synapse_pyspark",
      "display_name": "Synapse PySpark"
    },
    "language_info": {
      "name": "python"
    },
    "description": null,
    "save_output": true,
    "synapse_widget": {
      "version": "0.1",
      "state": {}
    }
  },
  "nbformat": 4,
  "nbformat_minor": 2
}