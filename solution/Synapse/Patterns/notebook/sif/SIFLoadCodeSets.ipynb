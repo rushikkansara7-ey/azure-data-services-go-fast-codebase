{
  "cells": [
    {
      "cell_type": "code",
      "source": [
        "TaskObject = \" \\\r\n",
        "{\\\r\n",
        "    \\\"TaskInstanceId\\\": 28,\\\r\n",
        "    \\\"TaskMasterId\\\": 2,\\\r\n",
        "    \\\"TaskStatus\\\": \\\"InProgress\\\",\\\r\n",
        "    \\\"TaskType\\\": \\\"Execute Synapse Notebook\\\",\\\r\n",
        "    \\\"Enabled\\\": 1,\\\r\n",
        "    \\\"ExecutionUid\\\": \\\"f3156876-086d-4915-b1b1-0b445810142c\\\",\\\r\n",
        "    \\\"NumberOfRetries\\\": 0,\\\r\n",
        "    \\\"DegreeOfCopyParallelism\\\": 1,\\\r\n",
        "    \\\"KeyVaultBaseUrl\\\": \\\"https://ads-dev-kv-ads-we7y.vault.azure.net/\\\",\\\r\n",
        "    \\\"ScheduleMasterId\\\": \\\"-4\\\",\\\r\n",
        "    \\\"TaskGroupConcurrency\\\": \\\"10\\\",\\\r\n",
        "    \\\"TaskGroupPriority\\\": 0,\\\r\n",
        "    \\\"TaskExecutionType\\\": \\\"ADF\\\",\\\r\n",
        "    \\\"ExecutionEngine\\\": {\\\r\n",
        "        \\\"EngineId\\\": -2,\\\r\n",
        "        \\\"EngineName\\\": \\\"adsdevsynwadswe7y\\\",\\\r\n",
        "        \\\"SystemType\\\": \\\"Synapse\\\",\\\r\n",
        "        \\\"ResourceGroup\\\": \\\"gfd1\\\",\\\r\n",
        "        \\\"SubscriptionId\\\": \\\"035a1364-f00d-48e2-b582-4fe125905ee3\\\",\\\r\n",
        "        \\\"ADFPipeline\\\": \\\"GPL_SparkNotebookExecution_Azure\\\",\\\r\n",
        "        \\\"TaskDatafactoryIR\\\": \\\"Azure\\\",\\\r\n",
        "        \\\"JsonProperties\\\": {\\\r\n",
        "            \\\"endpoint\\\": \\\"https://adsdevsynwadswe7y.dev.azuresynapse.net\\\",\\\r\n",
        "            \\\"DeltaProcessingNotebook\\\": \\\"DeltaProcessingNotebook\\\",\\\r\n",
        "            \\\"PurviewAccountName\\\": \\\"adsdevpuradswe7y\\\",\\\r\n",
        "            \\\"DefaultSparkPoolName\\\": \\\"adsdevsynspads\\\"\\\r\n",
        "        }\\\r\n",
        "    },\\\r\n",
        "    \\\"Source\\\": {\\\r\n",
        "        \\\"System\\\": {\\\r\n",
        "            \\\"SystemId\\\": -4,\\\r\n",
        "            \\\"SystemServer\\\": \\\"https://adsdevdlsadswe7yadsl.dfs.core.windows.net\\\",\\\r\n",
        "            \\\"AuthenticationType\\\": \\\"MSI\\\",\\\r\n",
        "            \\\"Type\\\": \\\"ADLS\\\",\\\r\n",
        "            \\\"Username\\\": null,\\\r\n",
        "            \\\"Container\\\": \\\"datalakeraw\\\"\\\r\n",
        "        },\\\r\n",
        "        \\\"Instance\\\": {\\\r\n",
        "            \\\"SourceRelativePath\\\": \\\"/samples/sif/SifOpenApi/\\\"\\\r\n",
        "        },\\\r\n",
        "        \\\"DataFileName\\\": \\\"jsonSchemaCreate_AU.json\\\",\\\r\n",
        "        \\\"RelativePath\\\": \\\"/samples/sif/SifOpenApi/\\\",\\\r\n",
        "        \\\"SchemaFileName\\\": \\\"\\\",\\\r\n",
        "        \\\"Type\\\": \\\"Notebook-Optional\\\",\\\r\n",
        "        \\\"WriteSchemaToPurview\\\": \\\"Disabled\\\"\\\r\n",
        "    },\\\r\n",
        "    \\\"Target\\\": {\\\r\n",
        "        \\\"System\\\": {\\\r\n",
        "            \\\"SystemId\\\": -10,\\\r\n",
        "            \\\"SystemServer\\\": \\\"adsdevsynwadswe7y.sql.azuresynapse.net\\\",\\\r\n",
        "            \\\"AuthenticationType\\\": \\\"MSI\\\",\\\r\n",
        "            \\\"Type\\\": \\\"Azure Synapse\\\",\\\r\n",
        "            \\\"Username\\\": null,\\\r\n",
        "            \\\"Workspace\\\": \\\"adsdevsynwadswe7y\\\",\\\r\n",
        "            \\\"Database\\\": \\\"adsdevsyndpads\\\"\\\r\n",
        "        },\\\r\n",
        "        \\\"Instance\\\": {\\\r\n",
        "            \\\"SourceRelativePath\\\": \\\"/samples/sif/SifOpenApi/\\\"\\\r\n",
        "        },\\\r\n",
        "        \\\"DataFileName\\\": \\\"\\\",\\\r\n",
        "        \\\"RelativePath\\\": \\\"\\\",\\\r\n",
        "        \\\"SchemaFileName\\\": \\\"\\\",\\\r\n",
        "        \\\"Type\\\": \\\"Notebook-Optional\\\",\\\r\n",
        "        \\\"WriteSchemaToPurview\\\": \\\"Disabled\\\"\\\r\n",
        "    },\\\r\n",
        "    \\\"TMOptionals\\\": {\\\r\n",
        "        \\\"CustomDefinitions\\\": \\\"SparkDatabaseName=SIF\\\",\\\r\n",
        "        \\\"ExecuteNotebook\\\": \\\"SIFLoadCodeSets\\\",\\\r\n",
        "        \\\"Purview\\\": \\\"Disabled\\\",\\\r\n",
        "        \\\"QualifiedIDAssociation\\\": \\\"TaskMasterId\\\",\\\r\n",
        "        \\\"UseNotebookActivity\\\": \\\"Enabled\\\"\\\r\n",
        "    }\\\r\n",
        "}\" \r\n",
        "\r\n",
        "print(TaskObject)\r\n",
        "\r\n"
      ],
      "outputs": [
        {
          "output_type": "display_data",
          "data": {
            "application/vnd.livy.statement-meta+json": {
              "spark_pool": "adsdevsynspads",
              "session_id": 7,
              "statement_id": 5,
              "state": "finished",
              "livy_statement_state": "available",
              "queued_time": "2022-07-10T01:05:40.6341067Z",
              "session_start_time": null,
              "execution_start_time": "2022-07-10T01:05:41.7235449Z",
              "execution_finish_time": "2022-07-10T01:05:41.870805Z"
            },
            "text/plain": "StatementMeta(adsdevsynspads, 7, 5, Finished, Available)"
          },
          "metadata": {}
        },
        {
          "output_type": "stream",
          "name": "stdout",
          "text": [
            " {    \"TaskInstanceId\": 28,    \"TaskMasterId\": 2,    \"TaskStatus\": \"InProgress\",    \"TaskType\": \"Execute Synapse Notebook\",    \"Enabled\": 1,    \"ExecutionUid\": \"f3156876-086d-4915-b1b1-0b445810142c\",    \"NumberOfRetries\": 0,    \"DegreeOfCopyParallelism\": 1,    \"KeyVaultBaseUrl\": \"https://ads-dev-kv-ads-we7y.vault.azure.net/\",    \"ScheduleMasterId\": \"-4\",    \"TaskGroupConcurrency\": \"10\",    \"TaskGroupPriority\": 0,    \"TaskExecutionType\": \"ADF\",    \"ExecutionEngine\": {        \"EngineId\": -2,        \"EngineName\": \"adsdevsynwadswe7y\",        \"SystemType\": \"Synapse\",        \"ResourceGroup\": \"gfd1\",        \"SubscriptionId\": \"035a1364-f00d-48e2-b582-4fe125905ee3\",        \"ADFPipeline\": \"GPL_SparkNotebookExecution_Azure\",        \"TaskDatafactoryIR\": \"Azure\",        \"JsonProperties\": {            \"endpoint\": \"https://adsdevsynwadswe7y.dev.azuresynapse.net\",            \"DeltaProcessingNotebook\": \"DeltaProcessingNotebook\",            \"PurviewAccountName\": \"adsdevpuradswe7y\",            \"DefaultSparkPoolName\": \"adsdevsynspads\"        }    },    \"Source\": {        \"System\": {            \"SystemId\": -4,            \"SystemServer\": \"https://adsdevdlsadswe7yadsl.dfs.core.windows.net\",            \"AuthenticationType\": \"MSI\",            \"Type\": \"ADLS\",            \"Username\": null,            \"Container\": \"datalakeraw\"        },        \"Instance\": {            \"SourceRelativePath\": \"/samples/sif/SifOpenApi/\"        },        \"DataFileName\": \"jsonSchemaCreate_AU.json\",        \"RelativePath\": \"/samples/sif/SifOpenApi/\",        \"SchemaFileName\": \"\",        \"Type\": \"Notebook-Optional\",        \"WriteSchemaToPurview\": \"Disabled\"    },    \"Target\": {        \"System\": {            \"SystemId\": -10,            \"SystemServer\": \"adsdevsynwadswe7y.sql.azuresynapse.net\",            \"AuthenticationType\": \"MSI\",            \"Type\": \"Azure Synapse\",            \"Username\": null,            \"Workspace\": \"adsdevsynwadswe7y\",            \"Database\": \"adsdevsyndpads\"        },        \"Instance\": {            \"SourceRelativePath\": \"/samples/sif/SifOpenApi/\"        },        \"DataFileName\": \"\",        \"RelativePath\": \"\",        \"SchemaFileName\": \"\",        \"Type\": \"Notebook-Optional\",        \"WriteSchemaToPurview\": \"Disabled\"    },    \"TMOptionals\": {        \"CustomDefinitions\": \"SparkDatabaseName=SIF\",        \"ExecuteNotebook\": \"SIFLoadCodeSets\",        \"Purview\": \"Disabled\",        \"QualifiedIDAssociation\": \"TaskMasterId\",        \"UseNotebookActivity\": \"Enabled\"    }}\n"
          ]
        }
      ],
      "execution_count": 5,
      "metadata": {
        "jupyter": {
          "source_hidden": false,
          "outputs_hidden": false
        },
        "nteract": {
          "transient": {
            "deleting": false
          }
        },
        "tags": [
          "parameters"
        ]
      }
    },
    {
      "cell_type": "markdown",
      "source": [
        "**Process the TaskObject to Extract Required Information**"
      ],
      "metadata": {
        "nteract": {
          "transient": {
            "deleting": false
          }
        }
      }
    },
    {
      "cell_type": "code",
      "source": [
        "import random\r\n",
        "import json\r\n",
        "from pyspark.sql import Row\r\n",
        "from pyspark.sql.types import *\r\n",
        "from pyspark.sql.functions import *\r\n",
        "\r\n",
        "TaskDict = {}\r\n",
        "OutputDict = {}\r\n",
        "TaskObjectJson = json.loads(TaskObject)\r\n",
        "\r\n",
        "##we want to delete EngineJson as it causes issues when converting back to a json and it is not needed as its properties are within JsonProperties as children\r\n",
        "try:\r\n",
        "    del TaskObjectJson['ExecutionEngine']['EngineJson']\r\n",
        "except:\r\n",
        "    print(\"No EngineJson Found\")\r\n",
        "\r\n",
        "Source = TaskObjectJson['Source']['System']['Container'] + \"@\" + TaskObjectJson['Source']['System']['SystemServer'].replace(\"https://\",\"\").replace(\"blob\",\"dfs\") + \"/\"\r\n",
        "Source = Source.replace('///', '/')\r\n",
        "Source = Source.replace('//', '/')\r\n",
        "Source = Source + TaskObjectJson['Source'][\"Instance\"]['SourceRelativePath']\r\n",
        "Source = Source  +\"/\" + TaskObjectJson['Source']['DataFileName'] \r\n",
        "Source = Source.replace('///', '/')\r\n",
        "Source = Source.replace('//', '/')\r\n",
        "Source = \"abfss://\" + Source \r\n",
        "print(Source)\r\n",
        "\r\n",
        "SifDbName = \"sif\"\r\n",
        "tmopts = TaskObjectJson['TMOptionals']['CustomDefinitions'].split(\",\")\r\n",
        "for o in tmopts:\r\n",
        "    opt = o.split(\"=\")\r\n",
        "    if (opt[0] == \"SparkDatabaseName\"):\r\n",
        "        SifDbName = opt[1].lower()\r\n",
        "        break\r\n",
        "\r\n",
        "print(SifDbName)\r\n"
      ],
      "outputs": [
        {
          "output_type": "display_data",
          "data": {
            "application/vnd.livy.statement-meta+json": {
              "spark_pool": "adsdevsynspads",
              "session_id": 7,
              "statement_id": 10,
              "state": "finished",
              "livy_statement_state": "available",
              "queued_time": "2022-07-10T01:12:11.8213174Z",
              "session_start_time": null,
              "execution_start_time": "2022-07-10T01:12:12.0766998Z",
              "execution_finish_time": "2022-07-10T01:12:12.255473Z"
            },
            "text/plain": "StatementMeta(adsdevsynspads, 7, 10, Finished, Available)"
          },
          "metadata": {}
        },
        {
          "output_type": "stream",
          "name": "stdout",
          "text": [
            "No EngineJson Found\nabfss://datalakeraw@adsdevdlsadswe7yadsl.dfs.core.windows.net/samples/sif/SifOpenApi/jsonSchemaCreate_AU.json\nsif\n"
          ]
        }
      ],
      "execution_count": 10,
      "metadata": {
        "jupyter": {
          "source_hidden": false,
          "outputs_hidden": false
        },
        "nteract": {
          "transient": {
            "deleting": false
          }
        }
      }
    },
    {
      "cell_type": "markdown",
      "source": [
        "**Create the SIF Database**"
      ],
      "metadata": {
        "nteract": {
          "transient": {
            "deleting": false
          }
        }
      }
    },
    {
      "cell_type": "code",
      "source": [
        "#check if the specified DB / table exists - if so only do required actions.\r\n",
        "dbList = spark.catalog.listDatabases()\r\n",
        "dbExists = False\r\n",
        "for db in dbList:\r\n",
        "    if (db.name == SifDbName):\r\n",
        "        dbExists = True\r\n",
        "        break\r\n",
        "\r\n",
        "if (dbExists):\r\n",
        "    print(\"DB Exists\")    \r\n",
        "else:\r\n",
        "    print(\"DB Doesnt exist - creating DB\")\r\n",
        "    createDBString = \"CREATE DATABASE \" + SifDbName \r\n",
        "    spark.sql(createDBString)\r\n",
        "    spark.catalog.setCurrentDatabase(SifDbName)"
      ],
      "outputs": [
        {
          "output_type": "display_data",
          "data": {
            "application/vnd.livy.statement-meta+json": {
              "spark_pool": "adsdevsynspads",
              "session_id": 1,
              "statement_id": 29,
              "state": "finished",
              "livy_statement_state": "available",
              "queued_time": "2022-07-08T05:59:02.2582874Z",
              "session_start_time": null,
              "execution_start_time": "2022-07-08T05:59:02.3875319Z",
              "execution_finish_time": "2022-07-08T05:59:02.8787222Z"
            },
            "text/plain": "StatementMeta(adsdevsynspads, 1, 29, Finished, Available)"
          },
          "metadata": {}
        },
        {
          "output_type": "stream",
          "name": "stdout",
          "text": [
            "DB Exists\n"
          ]
        }
      ],
      "execution_count": 29,
      "metadata": {
        "jupyter": {
          "source_hidden": false,
          "outputs_hidden": false
        },
        "nteract": {
          "transient": {
            "deleting": false
          }
        }
      }
    },
    {
      "cell_type": "markdown",
      "source": [
        "**Read in Full Json Schema from SIF Open API Definition File**"
      ],
      "metadata": {
        "nteract": {
          "transient": {
            "deleting": false
          }
        }
      }
    },
    {
      "cell_type": "code",
      "source": [
        "import json\r\n",
        "rdd =  spark.sparkContext.wholeTextFiles(Source)\r\n",
        "text = rdd.collect()[0][1]\r\n",
        "dict1 = json.loads(str(text))"
      ],
      "outputs": [
        {
          "output_type": "display_data",
          "data": {
            "application/vnd.livy.statement-meta+json": {
              "spark_pool": "adsdevsynspads",
              "session_id": 1,
              "statement_id": 30,
              "state": "finished",
              "livy_statement_state": "available",
              "queued_time": "2022-07-08T05:59:04.6433029Z",
              "session_start_time": null,
              "execution_start_time": "2022-07-08T05:59:04.7660031Z",
              "execution_finish_time": "2022-07-08T05:59:13.463301Z"
            },
            "text/plain": "StatementMeta(adsdevsynspads, 1, 30, Finished, Available)"
          },
          "metadata": {}
        }
      ],
      "execution_count": 30,
      "metadata": {
        "jupyter": {
          "source_hidden": false,
          "outputs_hidden": false
        },
        "nteract": {
          "transient": {
            "deleting": false
          }
        }
      }
    },
    {
      "cell_type": "markdown",
      "source": [
        "**Declare Function that will register codesets as managed tables**"
      ],
      "metadata": {
        "nteract": {
          "transient": {
            "deleting": false
          }
        }
      }
    },
    {
      "cell_type": "code",
      "source": [
        "from pyspark.sql import SparkSession\r\n",
        "from pyspark.sql.types  import *\r\n",
        "from pyspark.sql import Row\r\n",
        "\r\n",
        "def PersistRefData(name, dict1):\r\n",
        "    ref = dict1['definitions'][name]['oneOf']\r\n",
        "    schema = StructType([StructField('const', StringType()), StructField('title',StringType())])\r\n",
        "    refdf = spark.createDataFrame(data=ref, schema = schema)\r\n",
        "    tablename = \"ref_\" + name\r\n",
        "    spark.catalog.setCurrentDatabase(SifDbName)\r\n",
        "    refdf.write.mode(\"overwrite\").saveAsTable(tablename)"
      ],
      "outputs": [
        {
          "output_type": "display_data",
          "data": {
            "application/vnd.livy.statement-meta+json": {
              "spark_pool": "adsdevsynspads",
              "session_id": 1,
              "statement_id": 31,
              "state": "finished",
              "livy_statement_state": "available",
              "queued_time": "2022-07-08T05:59:29.1862032Z",
              "session_start_time": null,
              "execution_start_time": "2022-07-08T05:59:29.3157709Z",
              "execution_finish_time": "2022-07-08T05:59:29.4603512Z"
            },
            "text/plain": "StatementMeta(adsdevsynspads, 1, 31, Finished, Available)"
          },
          "metadata": {}
        }
      ],
      "execution_count": 31,
      "metadata": {
        "jupyter": {
          "source_hidden": false,
          "outputs_hidden": false
        },
        "nteract": {
          "transient": {
            "deleting": false
          }
        }
      }
    },
    {
      "cell_type": "markdown",
      "source": [
        "**Call Function for Each Codeset Entity**"
      ],
      "metadata": {
        "nteract": {
          "transient": {
            "deleting": false
          }
        }
      }
    },
    {
      "cell_type": "code",
      "source": [
        "entities = [\"AbstractContentElement\" \\\n",
        ",\"AUCodeSets0211ProgramAvailability\" \\\n",
        ",\"AUCodeSets0792IdentificationProcedure\" \\\n",
        ",\"AUCodeSetsAccompaniment\" \\\n",
        ",\"AUCodeSetsACStrand\" \\\n",
        ",\"AUCodeSetsActivityInvolvementCode\" \\\n",
        ",\"AUCodeSetsActivityType\" \\\n",
        ",\"AUCodeSetsAddressRole\" \\\n",
        ",\"AUCodeSetsAddressType\" \\\n",
        ",\"AUCodeSetsAGCollection\" \\\n",
        ",\"AUCodeSetsAGContextQuestion\" \\\n",
        ",\"AUCodeSetsAGSubmissionStatus\" \\\n",
        ",\"AUCodeSetsAssessmentReportingMethod\" \\\n",
        ",\"AUCodeSetsAssessmentType\" \\\n",
        ",\"AUCodeSetsAttendanceCode\" \\\n",
        ",\"AUCodeSetsAttendanceStatus\" \\\n",
        ",\"AUCodeSetsAustralianCitizenshipStatus\" \\\n",
        ",\"AUCodeSetsAustralianStandardClassificationOfCulturalAndEthnicGroupsASCCEG\" \\\n",
        ",\"AUCodeSetsAustralianStandardClassificationOfLanguagesASCL\" \\\n",
        ",\"AUCodeSetsAustralianStandardClassificationOfReligiousGroupsASCRG\" \\\n",
        ",\"AUCodeSetsAustralianStandardGeographicalClassificationASGC\" \\\n",
        ",\"AUCodeSetsAustralianTimeZone\" \\\n",
        ",\"AUCodeSetsBirthdateVerification\" \\\n",
        ",\"AUCodeSetsBoarding\" \\\n",
        ",\"AUCodeSetsCalendarEvent\" \\\n",
        ",\"AUCodeSetsContactMethod\" \\\n",
        ",\"AUCodeSetsDayValueCode\" \\\n",
        ",\"AUCodeSetsDetentionCategory\" \\\n",
        ",\"AUCodeSetsDwellingArrangement\" \\\n",
        ",\"AUCodeSetsEducationAgencyType\" \\\n",
        ",\"AUCodeSetsEducationLevel\" \\\n",
        ",\"AUCodeSetsElectronicIdType\" \\\n",
        ",\"AUCodeSetsEmailType\" \\\n",
        ",\"AUCodeSetsEmploymentType\" \\\n",
        ",\"AUCodeSetsEnglishProficiency\" \\\n",
        ",\"AUCodeSetsEnrollmentTimeFrame\" \\\n",
        ",\"AUCodeSetsEntryType\" \\\n",
        ",\"AUCodeSetsEquipmentType\" \\\n",
        ",\"AUCodeSetsEventCategory\" \\\n",
        ",\"AUCodeSetsEventSubCategory\" \\\n",
        ",\"AUCodeSetsExitWithdrawalStatus\" \\\n",
        ",\"AUCodeSetsExitWithdrawalType\" \\\n",
        ",\"AUCodeSetsFederalElectorate\" \\\n",
        ",\"AUCodeSetsFFPOSStatusCode\" \\\n",
        ",\"AUCodeSetsFTPTStatusCode\" \\\n",
        ",\"AUCodeSetsGroupCategoryCode\" \\\n",
        ",\"AUCodeSetsImmunisationCertificateStatus\" \\\n",
        ",\"AUCodeSetsIndigenousStatus\" \\\n",
        ",\"AUCodeSetsLanguageType\" \\\n",
        ",\"AUCodeSetsLearningStandardItemRelationshipTypes\" \\\n",
        ",\"AUCodeSetsMaritalStatusAIHW\" \\\n",
        ",\"AUCodeSetsMediumOfInstruction\" \\\n",
        ",\"AUCodeSetsNameUsageType\" \\\n",
        ",\"AUCodeSetsNAPJurisdiction\" \\\n",
        ",\"AUCodeSetsNAPParticipationCode\" \\\n",
        ",\"AUCodeSetsNAPResponseCorrectness\" \\\n",
        ",\"AUCodeSetsNAPTestDomain\" \\\n",
        ",\"AUCodeSetsNAPTestItemMarkingType\" \\\n",
        ",\"AUCodeSetsNAPTestItemType\" \\\n",
        ",\"AUCodeSetsNAPTestType\" \\\n",
        ",\"AUCodeSetsNAPWritingGenre\" \\\n",
        ",\"AUCodeSetsNonSchoolEducation\" \\\n",
        ",\"AUCodeSetsOperationalStatus\" \\\n",
        ",\"AUCodeSetsPermanentResidentStatus\" \\\n",
        ",\"AUCodeSetsPermissionCategoryCode\" \\\n",
        ",\"AUCodeSetsPersonalisedPlan\" \\\n",
        ",\"AUCodeSetsPictureSource\" \\\n",
        ",\"AUCodeSetsPNPCode\" \\\n",
        ",\"AUCodeSetsPrePrimaryHours\" \\\n",
        ",\"AUCodeSetsProgramFundingSourceCode\" \\\n",
        ",\"AUCodeSetsProgressLevel\" \\\n",
        ",\"AUCodeSetsPublicSchoolCatchmentStatus\" \\\n",
        ",\"AUCodeSetsReceivingLocationOfInstruction\" \\\n",
        ",\"AUCodeSetsRelationshipToStudent\" \\\n",
        ",\"AUCodeSetsResourceUsageContentType\" \\\n",
        ",\"AUCodeSetsScheduledActivityType\" \\\n",
        ",\"AUCodeSetsSchoolCoEdStatus\" \\\n",
        ",\"AUCodeSetsSchoolEducationLevelType\" \\\n",
        ",\"AUCodeSetsSchoolEnrollmentType\" \\\n",
        ",\"AUCodeSetsSchoolFocusCode\" \\\n",
        ",\"AUCodeSetsSchoolLevel\" \\\n",
        ",\"AUCodeSetsSchoolLocation\" \\\n",
        ",\"AUCodeSetsSchoolSectorCode\" \\\n",
        ",\"AUCodeSetsSchoolSystem\" \\\n",
        ",\"AUCodeSetsSessionType\" \\\n",
        ",\"AUCodeSetsSexCode\" \\\n",
        ",\"AUCodeSetsSourceCodeType\" \\\n",
        ",\"AUCodeSetsStaffActivity\" \\\n",
        ",\"AUCodeSetsStaffStatus\" \\\n",
        ",\"AUCodeSetsStandardAustralianClassificationOfCountriesSACC\" \\\n",
        ",\"AUCodeSetsStateTerritoryCode\" \\\n",
        ",\"AUCodeSetsStudentFamilyProgramType\" \\\n",
        ",\"AUCodeSetsSuspensionCategory\"  \\\n",
        ",\"AUCodeSetsSystemicStatus\" \\\n",
        ",\"AUCodeSetsTeacherCoverCredit\" \\\n",
        ",\"AUCodeSetsTeacherCoverSupervision\" \\\n",
        ",\"AUCodeSetsTelephoneNumberType\" \\\n",
        ",\"AUCodeSetsTravelMode\" \\\n",
        ",\"AUCodeSetsVisaStudyEntitlement\" \\\n",
        ",\"AUCodeSetsVisaSubClass\" \\\n",
        ",\"AUCodeSetsWellbeingAlertCategory\" \\\n",
        ",\"AUCodeSetsWellbeingAppealStatus\" \\\n",
        ",\"AUCodeSetsWellbeingCharacteristicCategory\" \\\n",
        ",\"AUCodeSetsWellbeingCharacteristicClassification\" \\\n",
        ",\"AUCodeSetsWellbeingCharacteristicSubCategory\" \\\n",
        ",\"AUCodeSetsWellbeingEventCategoryClass\" \\\n",
        ",\"AUCodeSetsWellbeingEventLocation\" \\\n",
        ",\"AUCodeSetsWellbeingEventTimePeriod\" \\\n",
        ",\"AUCodeSetsWellbeingResponseCategory\" \\\n",
        ",\"AUCodeSetsWellbeingStatus\" \\\n",
        ",\"AUCodeSetsYearLevelCode\" \\\n",
        ",\"AUCodeSetsYesOrNoCategory\" \\\n",
        ",\"DefinedProtocols\" \\\n",
        ",\"GenericYesNo\" \\\n",
        ",\"ISO4217CurrencyNamesAndCodeElements\"]\n",
        "\n",
        "\n",
        "from multiprocessing.pool import ThreadPool\n",
        "pool = ThreadPool(5)\n",
        "pool.map(lambda e: PersistRefData(e,dict1),entities)"
      ],
      "outputs": [
        {
          "output_type": "display_data",
          "data": {
            "application/vnd.livy.statement-meta+json": {
              "spark_pool": "adsdevsynspads",
              "session_id": 1,
              "statement_id": 32,
              "state": "finished",
              "livy_statement_state": "available",
              "queued_time": "2022-07-08T05:59:32.0792089Z",
              "session_start_time": null,
              "execution_start_time": "2022-07-08T05:59:32.211562Z",
              "execution_finish_time": "2022-07-08T06:01:13.4931217Z"
            },
            "text/plain": "StatementMeta(adsdevsynspads, 1, 32, Finished, Available)"
          },
          "metadata": {}
        },
        {
          "output_type": "execute_result",
          "execution_count": 67,
          "data": {
            "text/plain": "[None,\n None,\n None,\n None,\n None,\n None,\n None,\n None,\n None,\n None,\n None,\n None,\n None,\n None,\n None,\n None,\n None,\n None,\n None,\n None,\n None,\n None,\n None,\n None,\n None,\n None,\n None,\n None,\n None,\n None,\n None,\n None,\n None,\n None,\n None,\n None,\n None,\n None,\n None,\n None,\n None,\n None,\n None,\n None,\n None,\n None,\n None,\n None,\n None,\n None,\n None,\n None,\n None,\n None,\n None,\n None,\n None,\n None,\n None,\n None,\n None,\n None,\n None,\n None,\n None,\n None,\n None,\n None,\n None,\n None,\n None,\n None,\n None,\n None,\n None,\n None,\n None,\n None,\n None,\n None,\n None,\n None,\n None,\n None,\n None,\n None,\n None,\n None,\n None,\n None,\n None,\n None,\n None,\n None,\n None,\n None,\n None,\n None,\n None,\n None,\n None,\n None,\n None,\n None,\n None,\n None,\n None,\n None,\n None,\n None,\n None,\n None,\n None,\n None,\n None]"
          },
          "metadata": {}
        }
      ],
      "execution_count": 32,
      "metadata": {
        "microsoft": {}
      }
    }
  ],
  "metadata": {
    "kernelspec": {
      "name": "synapse_pyspark",
      "language": "Python",
      "display_name": "Synapse PySpark"
    },
    "language_info": {
      "name": "python"
    },
    "kernel_info": {
      "name": "synapse_pyspark"
    },
    "description": null,
    "save_output": true,
    "synapse_widget": {
      "version": "0.1",
      "state": {}
    }
  },
  "nbformat": 4,
  "nbformat_minor": 2
}