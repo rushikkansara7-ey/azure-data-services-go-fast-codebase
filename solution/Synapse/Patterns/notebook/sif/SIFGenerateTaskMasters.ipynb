{
  "cells": [
    {
      "cell_type": "markdown",
      "source": [
        "**This notebook was used to help generate the TaskMasters for SIF**"
      ],
      "metadata": {
        "nteract": {
          "transient": {
            "deleting": false
          }
        }
      }
    },
    {
      "cell_type": "code",
      "source": [
        "entities = [\"CalendarDate\" \\\r\n",
        ",\"GradingAssignment\" \\\r\n",
        ",\"GradingAssignmentScore\" \\\r\n",
        ",\"LearningStandardItem\" \\\r\n",
        ",\"MarkValueInfo\" \\\r\n",
        ",\"SchoolInfo2\" \\\r\n",
        ",\"SectionInfo\" \\\r\n",
        ",\"StaffAssignment\" \\\r\n",
        ",\"StaffPersonal\" \\\r\n",
        ",\"StudentContactPersonal\" \\\r\n",
        ",\"StudentContactRelationship\" \\\r\n",
        ",\"StudentDailyAttendance\" \\\r\n",
        ",\"StudentGrade\" \\\r\n",
        ",\"StudentPersonal\" \\\r\n",
        ",\"StudentSchoolEnrollment\" \\\r\n",
        ",\"StudentScoreJudgementAgainstStandard\" \\\r\n",
        ",\"StudentSectionEnrollment\" \\\r\n",
        ",\"TeachingGroup\" \\\r\n",
        ",\"TermInfo\" \\\r\n",
        ",\"TermInfo2\" \\\r\n",
        ",\"TermInfo3\" \\\r\n",
        ",\"schoolinfo\" \\\r\n",
        "]\r\n",
        "\r\n",
        "sqltemplate = \" \\\r\n",
        "INSERT [dbo].[TaskMaster] ([TaskMasterId], [TaskMasterName], [TaskTypeId], [TaskGroupId], [ScheduleMasterId], [SourceSystemId], [TargetSystemId], [DegreeOfCopyParallelism], [AllowMultipleActiveInstances], [TaskDatafactoryIR], [TaskMasterJSON], [ActiveYN], [DependencyChainTag], [EngineId], [InsertIntoCurrentSchedule]) \\\r\n",
        "VALUES ({id}, N'Load SIF Raw - {Entity}', -5, -1, -4, -4, -4, 1, 0, N'Azure', N'{\\\"CustomDefinitions\\\":\\\"SparkDatabaseName=sif\\\",\\\"ExecuteNotebook\\\":\\\"SIFParameterizedJson\\\",\\\"Purview\\\":\\\"Disabled\\\",\\\"QualifiedIDAssociation\\\":\\\"TaskMasterId\\\",\\\"Source\\\":{\\\"DataFileName\\\":\\\"{Entity}.json\\\",\\\"RelativePath\\\":\\\"/samples/sif/\\\",\\\"SchemaFileName\\\":\\\"\\\",\\\"Type\\\":\\\"Notebook-Optional\\\",\\\"WriteSchemaToPurview\\\":\\\"Disabled\\\"},\\\"Target\\\":{\\\"DataFileName\\\":\\\"{Entity}.parquet\\\",\\\"RelativePath\\\":\\\"/samples/sif/delta/{Entity}/\\\",\\\"SchemaFileName\\\":\\\"{Entity}.json\\\",\\\"Type\\\":\\\"Notebook-Optional\\\",\\\"WriteSchemaToPurview\\\":\\\"Disabled\\\"},\\\"UseNotebookActivity\\\":\\\"Enabled\\\"}', 1, NULL, -2, 0) \\\r\n",
        "\\\r\n",
        "\"\r\n",
        "\r\n",
        "l = -2000\r\n",
        "sql = \"\"\r\n",
        "for e in entities:\r\n",
        "    sql = sql + sqltemplate.replace(\"{Entity}\", e).replace(\"{id}\", str(l))\r\n",
        "    l = l -1\r\n",
        "\r\n",
        "print(sql)"
      ],
      "outputs": [],
      "execution_count": null,
      "metadata": {}
    }
  ],
  "metadata": {
    "language_info": {
      "name": "python"
    },
    "kernelspec": {
      "name": "synapse_pyspark",
      "display_name": "python"
    },
    "save_output": true,
    "synapse_widget": {
      "version": "0.1",
      "state": {}
    }
  },
  "nbformat": 4,
  "nbformat_minor": 2
}