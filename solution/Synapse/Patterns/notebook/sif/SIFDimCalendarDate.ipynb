{
  "nbformat": 4,
  "nbformat_minor": 2,
  "cells": [
    {
      "cell_type": "code",
      "execution_count": 10,
      "outputs": [],
      "metadata": {},
      "source": [
        "TaskObject = \" \\\r\n",
        "{   \\\"TaskInstanceId\\\":53, \\\r\n",
        "    \\\"TaskMasterId\\\":1, \\\r\n",
        "    \\\"TaskStatus\\\":\\\"InProgress\\\",\\\r\n",
        "    \\\"TaskType\\\":\\\"Execute Synapse Notebook\\\",\\\r\n",
        "    \\\"Enabled\\\":1, \\\r\n",
        "    \\\"ExecutionUid\\\": \\\"dc872650-b992-4cae-9ae2-c714c95563ee\\\", \\\r\n",
        "    \\\"NumberOfRetries\\\":2, \\\r\n",
        "    \\\"DegreeOfCopyParallelism\\\":1, \\\r\n",
        "    \\\"KeyVaultBaseUrl\\\":\\\"https://ads-dev-kv-ads-orgp.vault.azure.net\\\", \\\r\n",
        "    \\\"ScheduleMasterId\\\":\\\"-4\\\", \\\r\n",
        "    \\\"TaskGroupConcurrency\\\":\\\"10\\\", \\\r\n",
        "    \\\"TaskGroupPriority\\\":0, \\\r\n",
        "    \\\"TaskExecutionType\\\":\\\"ADF\\\", \\\r\n",
        "    \\\"Source\\\": {\\\r\n",
        "        \\\"System\\\": {\\\r\n",
        "            \\\"SystemId\\\": -10,\\\r\n",
        "            \\\"SystemServer\\\": \\\"adsdevsynwadsorgp.sql.azuresynapse.net\\\",\\\r\n",
        "            \\\"AuthenticationType\\\": \\\"MSI\\\",\\\r\n",
        "            \\\"Type\\\": \\\"Azure Synapse\\\",\\\r\n",
        "            \\\"Username\\\": null,\\\r\n",
        "            \\\"Workspace\\\": \\\"adsdevsynwadsorgp\\\",\\\r\n",
        "            \\\"Database\\\": \\\"adsdevsyndpads\\\"\\\r\n",
        "        },\\\r\n",
        "        \\\"Instance\\\":{ \\\r\n",
        "            \\\"SourceRelativePath\\\":\\\"\\\", \\\r\n",
        "            \\\"TargetRelativePath\\\":\\\"\\\" \\\r\n",
        "        }, \\\r\n",
        "        \\\"DataFileName\\\":\\\"\\\", \\\r\n",
        "        \\\"RelativePath\\\":\\\"\\\", \\\r\n",
        "        \\\"SchemaFileName\\\":\\\"\\\", \\\r\n",
        "        \\\"Type\\\":\\\"Notebook-Optional\\\", \\\r\n",
        "        \\\"WriteSchemaToPurview\\\":\\\"Disabled\\\" \\\r\n",
        "    }, \\\r\n",
        "    \\\"Target\\\":{ \\\r\n",
        "        \\\"System\\\": {\\\r\n",
        "            \\\"SystemId\\\": -10,\\\r\n",
        "            \\\"SystemServer\\\": \\\"adsdevsynwadsorgp.sql.azuresynapse.net\\\",\\\r\n",
        "            \\\"AuthenticationType\\\": \\\"MSI\\\",\\\r\n",
        "            \\\"Type\\\": \\\"Azure Synapse\\\",\\\r\n",
        "            \\\"Username\\\": null,\\\r\n",
        "            \\\"Workspace\\\": \\\"adsdevsynwadsorgp\\\",\\\r\n",
        "            \\\"Database\\\": \\\"adsdevsyndpads\\\"\\\r\n",
        "        },\\\r\n",
        "        \\\"Instance\\\":{ \\\r\n",
        "            \\\"SourceRelativePath\\\":\\\"\\\", \\\r\n",
        "            \\\"TargetRelativePath\\\":\\\"\\\" \\\r\n",
        "        }, \\\r\n",
        "        \\\"DataFileName\\\":\\\"\\\", \\\r\n",
        "        \\\"RelativePath\\\":\\\"\\\", \\\r\n",
        "        \\\"SchemaFileName\\\":\\\"\\\", \\\r\n",
        "        \\\"Type\\\":\\\"Notebook-Optional\\\", \\\r\n",
        "        \\\"WriteSchemaToPurview\\\":\\\"Disabled\\\" \\\r\n",
        "        }, \\\r\n",
        "    \\\"TMOptionals\\\":{ \\\r\n",
        "        \\\"CustomDefinitions\\\": \\\"SparkDatabaseName=sif\\\",\\\r\n",
        "        \\\"ExecuteNotebook\\\":\\\"SIFLoadDimStaffPersonal\\\", \\\r\n",
        "        \\\"Purview\\\":\\\"Disabled\\\", \\\r\n",
        "        \\\"QualifiedIDAssociation\\\":\\\"TaskMasterId\\\", \\\r\n",
        "        \\\"UseNotebookActivity\\\":\\\"Enabled\\\" \\\r\n",
        "        } \\\r\n",
        "    }\" "
      ]
    },
    {
      "cell_type": "code",
      "execution_count": 11,
      "outputs": [],
      "metadata": {
        "jupyter": {
          "source_hidden": false,
          "outputs_hidden": false
        },
        "nteract": {
          "transient": {
            "deleting": false
          }
        }
      },
      "source": [
        "import random\r\n",
        "import json\r\n",
        "from pyspark.sql import Row\r\n",
        "from pyspark.sql.types import *\r\n",
        "from pyspark.sql.functions import *\r\n",
        "\r\n",
        "session_id = random.randint(0,1000000)\r\n",
        "#invalid source\r\n",
        "##TaskObject = \"{\\\"TaskInstanceId\\\":1,\\\"TaskMasterId\\\":2,\\\"TaskStatus\\\":\\\"InProgress\\\",\\\"TaskType\\\":\\\"TestTask Type Name\\\",\\\"Enabled\\\":1,\\\"ExecutionUid\\\":\\\"8448eabb-9ba4-4779-865b-29e973431273\\\",\\\"NumberOfRetries\\\":0,\\\"DegreeOfCopyParallelism\\\":1,\\\"KeyVaultBaseUrl\\\":\\\"https://ark-stg-kv-ads-irud.vault.azure.net/\\\",\\\"ScheduleMasterId\\\":\\\"-4\\\",\\\"TaskGroupConcurrency\\\":\\\"10\\\",\\\"TaskGroupPriority\\\":0,\\\"TaskExecutionType\\\":\\\"ADF\\\",\\\"ExecutionEngine\\\":{\\\"EngineId\\\":-1,\\\"EngineName\\\":\\\"ark-stg-adf-ads-irud\\\",\\\"SystemType\\\":\\\"Datafactory\\\",\\\"ResourceGroup\\\":\\\"dlzdev04\\\",\\\"SubscriptionId\\\":\\\"ed1206e0-17c7-4bc2-ad4b-f8d4dab9284f\\\",\\\"ADFPipeline\\\":\\\"GPL_AzureSqlTable_NA_AzureBlobFS_Parquet_Azure\\\",\\\"EngineJson\\\":\\\"{}\\\",\\\"TaskDatafactoryIR\\\":\\\"Azure\\\",\\\"JsonProperties\\\":{}},\\\"Source\\\":{\\\"System\\\":{\\\"SystemId\\\":-8,\\\"SystemServer\\\":\\\"https://arkstgdlsadsirudadsl.dfs.core.windows.net\\\",\\\"AuthenticationType\\\":\\\"MSI\\\",\\\"Type\\\":\\\"ADLS\\\",\\\"Username\\\":null,\\\"Container\\\":\\\"datalakelanding\\\"},\\\"Instance\\\":{\\\"TargetRelativePath\\\":\\\"\\\"},\\\"DataFileName\\\":\\\"TestFile.parquet\\\",\\\"RelativePath\\\":\\\"\\\",\\\"SchemaFileName\\\":\\\"TestFile.json\\\"},\\\"Target\\\":{\\\"System\\\":{\\\"SystemId\\\":-8,\\\"SystemServer\\\":\\\"https://arkstgdlsadsirudadsl.dfs.core.windows.net\\\",\\\"AuthenticationType\\\":\\\"MSI\\\",\\\"Type\\\":\\\"ADLS\\\",\\\"Username\\\":null,\\\"Container\\\":\\\"datalakelanding\\\"},\\\"Instance\\\":{\\\"TargetRelativePath\\\":\\\"\\\"},\\\"DataFileName\\\":\\\"TestFile.parquet\\\",\\\"RelativePath\\\":\\\"\\\",\\\"SchemaFileName\\\":\\\"TestFile.json\\\",\\\"Type\\\":\\\"Parquet\\\"}}\"\r\n",
        "#valid source\r\n",
        "#TaskObject = \"{\\\"TaskInstanceId\\\":1,\\\"TaskMasterId\\\":2,\\\"TaskStatus\\\":\\\"InProgress\\\",\\\"TaskType\\\":\\\"TestTask Type Name\\\", \\\"Enabled\\\":1,\\\"ExecutionUid\\\":\\\"8448eabb-9ba4-4779-865b-29e973431273\\\",\\\"NumberOfRetries\\\":0,\\\"DegreeOfCopyParallelism\\\":1, \\\"KeyVaultBaseUrl\\\":\\\"https://ads-dev-kv-ads-ic038069.vault.azure.net/\\\",\\\"ScheduleMasterId\\\":\\\"-4\\\",\\\"TaskGroupConcurrency\\\":\\\"10\\\", \\\"TaskGroupPriority\\\":0,\\\"TaskExecutionType\\\":\\\"ADF\\\",\\\"ExecutionEngine\\\":{\\\"EngineId\\\":-1,\\\"EngineName\\\":\\\"ads-dev-kv-ads-ic038069\\\", \\\"SystemType\\\":\\\"Microsoft.Synapse/workspaces\\\",\\\"ResourceGroup\\\":\\\"sifgofast\\\",\\\"SubscriptionId\\\":\\\"cd486ba9-eef3-466d-b16c-7f1b2941ae9d\\\", \\\"ADFPipeline\\\":\\\"GPL_AzureSqlTable_NA_AzureBlobFS_Parquet_Azure\\\",\\\"EngineJson\\\":\\\"{}\\\",\\\"TaskDatafactoryIR\\\":\\\"Azure\\\", \\\"JsonProperties\\\":{}},\\\"Source\\\":{\\\"System\\\":{\\\"SystemId\\\":-8,\\\"SystemServer\\\":\\\"https://adsdevdlsadsic03adsl.blob.core.windows.net\\\", \\\"AuthenticationType\\\":\\\"MSI\\\",\\\"Type\\\":\\\"ADLS\\\",\\\"Username\\\":null,\\\"Container\\\":\\\"adsdevdlsadsic03\\\"},\\\"Instance\\\":\\\"\\\",{\\\"TargetRelativePath\\\":\\\"synapse/sif\\\"}, \\\"DataFileName\\\":\\\"StudentPersonal.parquet\\\",\\\"SourceRelativePath\\\":\\\"synapse/sif\\\",\\\"SchemaFileName\\\":\\\"StudentPersonal.json\\\",\\\"Type\\\":\\\"Parquet\\\"}, \\\"Target\\\":{\\\"System\\\":{\\\"SystemId\\\":-8,\\\"SystemServer\\\":\\\"https://adsdevdlsadsic03adsl.blob.core.windows.net\\\", \\\"AuthenticationType\\\":\\\"MSI\\\",\\\"Type\\\":\\\"ABS\\\",\\\"Username\\\":null,\\\"Container\\\":\\\"adsdevdlsadsic03\\\"}, \\\"Instance\\\":{\\\"TargetRelativePath\\\":\\\"\\\"},\\\"DataFileName\\\":\\\"StudentPersonal.parquet\\\",\\\"SourceRelativePath\\\":\\\"synapse\\/sif\\\", \\\"SchemaFileName\\\":\\\"StudentPersonal.json\\\",\\\"Type\\\":\\\"Parquet\\\"}}\"\r\n",
        "TaskDict = {}\r\n",
        "OutputDict = {}\r\n",
        "TaskObjectJson = json.loads(TaskObject)\r\n",
        "\r\n",
        "##we want to delete EngineJson as it causes issues when converting back to a json and it is not needed as its properties are within JsonProperties as children\r\n",
        "try:\r\n",
        "    del TaskObjectJson['ExecutionEngine']['EngineJson']\r\n",
        "except:\r\n",
        "    print(\"No EngineJson Found\")\r\n",
        "\r\n",
        "\r\n",
        "SifDbName = \"sif\"\r\n",
        "tmopts = TaskObjectJson['TMOptionals']['CustomDefinitions'].split(\",\")\r\n",
        "for o in tmopts:\r\n",
        "    opt = o.split(\"=\")\r\n",
        "    if (opt[0] == \"SparkDatabaseName\"):\r\n",
        "        SifDbName = opt[1].lower()\r\n",
        "        break\r\n",
        "\r\n",
        "print(SifDbName)"
      ]
    },
    {
      "cell_type": "code",
      "execution_count": 13,
      "outputs": [],
      "metadata": {
        "jupyter": {
          "source_hidden": false,
          "outputs_hidden": false
        },
        "nteract": {
          "transient": {
            "deleting": false
          }
        }
      },
      "source": [
        "spark.catalog.setCurrentDatabase(SifDbName)"
      ]
    },
    {
      "cell_type": "code",
      "execution_count": 67,
      "outputs": [],
      "metadata": {
        "jupyter": {
          "source_hidden": false,
          "outputs_hidden": false
        },
        "nteract": {
          "transient": {
            "deleting": false
          }
        }
      },
      "source": [
        "from pyspark.sql.functions import *\r\n",
        "df_Raw = spark.sql(\"select * from raw_calendardate\")\r\n",
        "df_RawWJ = df_Raw.withColumn('json',to_json (struct (col ('*')))).select(\"RefId\", \"json\")\r\n",
        "\r\n",
        "df_Out = df_RawWJ \\\r\n",
        ".withColumn('Date',get_json_object(col('json'), '$.Date')) \\\r\n",
        ".withColumn('CalendarSummaryRefId',get_json_object(col('json'), '$.CalendarSummaryRefId')) \\\r\n",
        ".withColumn('SchoolInfoRefId',get_json_object(col('json'), '$.SchoolInfoRefId')) \\\r\n",
        ".withColumn('SchoolYear',get_json_object(col('json'), '$.SchoolYear')) \\\r\n",
        ".withColumn('CalendarDateType',get_json_object(col('json'), '$.CalendarDateType.Code')) \\\r\n",
        ".withColumn('CalendarDateNumber',get_json_object(col('json'), '$.CalendarDateNumber')) \\\r\n",
        ".withColumn('StudentAttendanceCountsTowardAttendance',get_json_object(col('json'), '$.StudentAttendance.CountsTowardAttendance')) \\\r\n",
        ".withColumn('StudentAttendanceValue',get_json_object(col('json'), '$.StudentAttendance.AttendanceValue')) \\\r\n",
        ".withColumn('TeacherAttendanceCountsTowardAttendance',get_json_object(col('json'), '$.TeacherAttendance.CountsTowardAttendance')) \\\r\n",
        ".withColumn('TeacherAttendanceValue',get_json_object(col('json'), '$.TeacherAttendance.AttendanceValue')) \\\r\n",
        ".withColumn('AdministratorAttendanceCountsTowardAttendance',get_json_object(col('json'), '$.AdministratorAttendance.CountsTowardAttendance')) \\\r\n",
        ".withColumn('AdministratorAttendanceValue',get_json_object(col('json'), '$.AdministratorAttendance.AttendanceValue')) \\\r\n",
        ".select('CalendarDateRefId',\t'Date',\t'CalendarSummaryRefId',\t'SchoolInfoRefId',\t'SchoolYear',\t'CalendarDateType',\t'CalendarDateNumber',\t'StudentAttendanceCountsTowardAttendance',\t'StudentAttendanceValue',\t'TeacherAttendanceCountsTowardAttendance',\t'TeacherAttendanceValue',\t'AdministratorAttendanceCountsTowardAttendance',\t'AdministratorAttendanceValue') \r\n",
        "\r\n",
        "\r\n",
        ""
      ]
    },
    {
      "cell_type": "code",
      "execution_count": 68,
      "outputs": [],
      "metadata": {
        "jupyter": {
          "source_hidden": false,
          "outputs_hidden": false
        },
        "nteract": {
          "transient": {
            "deleting": false
          }
        }
      },
      "source": [
        "df_Out.write.mode(\"overwrite\").saveAsTable(\"dm_calendardate\")\r\n",
        ""
      ]
    }
  ],
  "metadata": {
    "save_output": true,
    "kernelspec": {
      "name": "synapse_pyspark",
      "display_name": "Synapse PySpark"
    },
    "language_info": {
      "name": "python"
    }
  }
}