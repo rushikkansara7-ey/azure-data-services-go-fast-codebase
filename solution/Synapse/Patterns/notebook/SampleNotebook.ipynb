{
  "cells": [
    {
      "cell_type": "code",
      "source": [
        "#THIS NOTEBOOK IS USED FOR FUNCTIONAL TESTING -> Does not have any other purpose than to ensure that the execute notebook action is working properly\r\n",
        "\r\n",
        "print(\"I am working\")"
      ],
      "outputs": [],
      "execution_count": null,
      "metadata": {}
    }
  ],
  "metadata": {
    "language_info": {
      "name": "python"
    },
    "kernelspec": {
      "name": "synapse_pyspark",
      "display_name": "python"
    },
    "save_output": true,
    "synapse_widget": {
      "version": "0.1",
      "state": {}
    }
  },
  "nbformat": 4,
  "nbformat_minor": 2
}